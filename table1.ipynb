{
 "cells": [
  {
   "cell_type": "code",
   "execution_count": 1,
   "metadata": {},
   "outputs": [],
   "source": [
    "import os\n",
    "import fnmatch\n",
    "import json \n",
    "from sklearn.metrics import r2_score\n",
    "\n",
    "def find_files_with_pattern(directory, pattern):\n",
    "    matching_files = []\n",
    "    for root, _, files in os.walk(directory):\n",
    "        for file in files:\n",
    "            if fnmatch.fnmatch(file, pattern):\n",
    "                matching_files.append(os.path.join(root, file))\n",
    "    return matching_files\n",
    "def exact_match(actual, predicted):\n",
    "    both, user, assistant = False, False, False\n",
    "    if actual==predicted:\n",
    "        both=True\n",
    "    try:\n",
    "        if predicted.split('.')[0]==actual.split('.')[0]:\n",
    "            user=True\n",
    "    except:\n",
    "        pass\n",
    "    try:\n",
    "        if predicted.split('.')[1]==actual.split('.')[1]:\n",
    "            assistant=True\n",
    "    except:\n",
    "        pass\n",
    "    return both, user, assistant\n",
    "\n",
    "def evaluate_CaSiNo(directory, pattern):\n",
    "    files = find_files_with_pattern(directory, pattern)\n",
    "    print(files)\n",
    "    for file in files:\n",
    "        with open(file, 'r') as fin:\n",
    "            data = json.load(fin)\n",
    "        both, user, assistant = 0, 0, 0\n",
    "        for solution in data:\n",
    "            b, u, a = exact_match(solution['ground_truth'], solution['response'])\n",
    "            if b:\n",
    "                both+=1\n",
    "            if u:\n",
    "                user+=1\n",
    "            if a:\n",
    "                assistant+=1\n",
    "        print(f\"The accuracy for {file.split('/')[-1].split('.')[0]}:\\tBoth: {round(both/len(data), 2)}\\tUser: {round(user/len(data), 2)}\\tAssistant: {round(assistant/len(data), 2)}\")"
   ]
  },
  {
   "cell_type": "code",
   "execution_count": 2,
   "metadata": {},
   "outputs": [
    {
     "name": "stdout",
     "output_type": "stream",
     "text": [
      "['./controls/CaSiNo Shallow Llama-3 1B.jsonl', './controls/CaSiNo Middle Llama-3 1B.jsonl', './controls/CaSiNo Deep Llama-3 1B.jsonl', './controls/CaSiNo Shallow Llama-3 3B.jsonl', './controls/CaSiNo Deep Llama-3 8B.jsonl', './controls/CaSiNo Middle Llama-3 3B.jsonl', './controls/CaSiNo Shallow Llama-3 8B.jsonl', './controls/CaSiNo Deep Llama-3 3B.jsonl', './controls/CaSiNo Middle Llama-3 8B.jsonl']\n",
      "The accuracy for CaSiNo Shallow Llama-3 1B:\tBoth: 0.0\tUser: 0.0\tAssistant: 0.0\n",
      "The accuracy for CaSiNo Middle Llama-3 1B:\tBoth: 0.2\tUser: 0.42\tAssistant: 0.39\n",
      "The accuracy for CaSiNo Deep Llama-3 1B:\tBoth: 0.0\tUser: 0.0\tAssistant: 0.01\n",
      "The accuracy for CaSiNo Shallow Llama-3 3B:\tBoth: 0.27\tUser: 0.54\tAssistant: 0.51\n",
      "The accuracy for CaSiNo Deep Llama-3 8B:\tBoth: 0.12\tUser: 0.43\tAssistant: 0.28\n",
      "The accuracy for CaSiNo Middle Llama-3 3B:\tBoth: 0.29\tUser: 0.6\tAssistant: 0.44\n",
      "The accuracy for CaSiNo Shallow Llama-3 8B:\tBoth: 0.31\tUser: 0.63\tAssistant: 0.55\n",
      "The accuracy for CaSiNo Deep Llama-3 3B:\tBoth: 0.1\tUser: 0.29\tAssistant: 0.25\n",
      "The accuracy for CaSiNo Middle Llama-3 8B:\tBoth: 0.46\tUser: 0.62\tAssistant: 0.7\n"
     ]
    }
   ],
   "source": [
    "evaluate_CaSiNo('./controls', 'CaSiNo *.jsonl')"
   ]
  },
  {
   "cell_type": "code",
   "execution_count": 3,
   "metadata": {},
   "outputs": [
    {
     "name": "stdout",
     "output_type": "stream",
     "text": [
      "CRAIGSLISTBARGAIN Shallow Llama-3 1B \t++>\t R^2 Score for Buyer: -0.23\tR^2 Score for Seller: -0.21\n",
      "CRAIGSLISTBARGAIN Shallow Llama-3 3B \t++>\t R^2 Score for Buyer: -2.01\tR^2 Score for Seller: 0.19\n",
      "CRAIGSLISTBARGAIN Middle Llama-3 8B \t++>\t R^2 Score for Buyer: 0.93\tR^2 Score for Seller: 0.91\n",
      "CRAIGSLISTBARGAIN Deep Llama-3 3B \t++>\t R^2 Score for Buyer: 0.84\tR^2 Score for Seller: 0.86\n",
      "CRAIGSLISTBARGAIN Deep Llama-3 8B \t++>\t R^2 Score for Buyer: 0.9\tR^2 Score for Seller: 0.95\n",
      "CRAIGSLISTBARGAIN Deep Llama-3 1B \t++>\t R^2 Score for Buyer: 0.86\tR^2 Score for Seller: 0.93\n",
      "CRAIGSLISTBARGAIN Shallow Llama-3 8B \t++>\t R^2 Score for Buyer: -1.35\tR^2 Score for Seller: -2.38\n",
      "CRAIGSLISTBARGAIN Middle Llama-3 1B \t++>\t R^2 Score for Buyer: 0.89\tR^2 Score for Seller: 0.92\n",
      "CRAIGSLISTBARGAIN Middle Llama-3 3B \t++>\t R^2 Score for Buyer: 0.96\tR^2 Score for Seller: 0.98\n"
     ]
    }
   ],
   "source": [
    "files = find_files_with_pattern('./controls', 'CRAIGSLISTBARGAIN *.jsonl')\n",
    "for file in files:\n",
    "    with open(file, 'r') as fin:\n",
    "        data = json.load(fin)\n",
    "    buyer_price_actual, buyer_price_predicted, seller_price_actual, seller_price_predicted = [], [], [], []\n",
    "    for item in data:\n",
    "        buyer_price_actual.append(int(item['ground_truth'].split(' ')[-2].replace(',', '')))\n",
    "        try:\n",
    "            buyer_price_predicted.append(int(item['response'].split(' ')[-2].replace(',', '')))\n",
    "        except:\n",
    "            buyer_price_predicted.append(10)\n",
    "        seller_price_actual.append(int(item['ground_truth'].split(' ')[7].strip(',').replace(',', '')))\n",
    "        try:\n",
    "            seller_price_predicted.append(int(item['response'].split(' ')[7].strip(',').replace(',', '')))\n",
    "        except:\n",
    "            seller_price_predicted.append(10)\n",
    "    print(f'{file.split(\"/\")[-1].split(\".\")[0]} \\t++>\\t R^2 Score for Buyer: {round(r2_score(buyer_price_actual, buyer_price_predicted), 2)}\\tR^2 Score for Seller: {round(r2_score(seller_price_actual, seller_price_predicted), 2)}')"
   ]
  },
  {
   "cell_type": "code",
   "execution_count": null,
   "metadata": {},
   "outputs": [],
   "source": []
  }
 ],
 "metadata": {
  "kernelspec": {
   "display_name": "Python 3",
   "language": "python",
   "name": "python3"
  },
  "language_info": {
   "codemirror_mode": {
    "name": "ipython",
    "version": 3
   },
   "file_extension": ".py",
   "mimetype": "text/x-python",
   "name": "python",
   "nbconvert_exporter": "python",
   "pygments_lexer": "ipython3",
   "version": "3.11.2"
  }
 },
 "nbformat": 4,
 "nbformat_minor": 2
}
