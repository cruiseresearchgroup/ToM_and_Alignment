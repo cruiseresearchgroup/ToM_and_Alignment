{
 "cells": [
  {
   "cell_type": "code",
   "execution_count": 14,
   "metadata": {},
   "outputs": [],
   "source": [
    "import json\n",
    "import re\n"
   ]
  },
  {
   "cell_type": "code",
   "execution_count": 15,
   "metadata": {},
   "outputs": [],
   "source": [
    "def extract_data_negotiationToM(string):\n",
    "    try:\n",
    "        agent1_intent = re.findall(r'1 is \\[(.*?)\\]', string)[0].split(',')\n",
    "    except:\n",
    "        agent1_intent = []\n",
    "    try:\n",
    "        agent2_intent = re.findall(r'2 is \\[(.*?)\\]', string)[0].split(',')\n",
    "    except:\n",
    "        agent2_intent = []\n",
    "    agent1_pattern = r'Agent 1, Desire High: (.*?), Desire Medium: (.*?), Desire Low: (.*?),  Belief High: (.*?), Belief Medium: (.*?), Belief Low: (.*?)\\.'\n",
    "    try:\n",
    "        agent1_desire_belief = re.findall(agent1_pattern, string)[0]\n",
    "    except:\n",
    "        agent1_desire_belief = ('Not Given', 'Not Given', 'Not Given', 'Firewood', 'Not Given', 'Not Given')\n",
    "    agent2_pattern = r'Agent 2, Desire High: (.*?), Desire Medium: (.*?), Desire Low: (.*?),  Belief High: (.*?), Belief Medium: (.*?), Belief Low: (.*?)\\.'\n",
    "    try:\n",
    "        agent2_desire_belief = re.findall(agent2_pattern, string)[0]\n",
    "    except:\n",
    "        agent2_desire_belief = ('Not Given', 'Not Given', 'Not Given', 'Firewood', 'Not Given', 'Not Given')\n",
    "    return agent1_intent, agent2_intent, agent1_desire_belief, agent2_desire_belief\n",
    "\n"
   ]
  },
  {
   "cell_type": "code",
   "execution_count": 16,
   "metadata": {},
   "outputs": [
    {
     "name": "stdout",
     "output_type": "stream",
     "text": [
      "All Score is:  0.1518987341772152\n",
      "Desire Score is:  0.38396624472573837\n",
      "Belief Score is:  0.38115330520393814\n"
     ]
    }
   ],
   "source": [
    "with open('controls/NegotiationToM Middle Llama-3 8B.jsonl', 'r') as fin:\n",
    "    NegotiationToM = json.load(fin)\n",
    "score = 0\n",
    "belief = 0\n",
    "desire = 0\n",
    "intention = 0\n",
    "for idx, item in enumerate(NegotiationToM):\n",
    "    gt_agent1_intent, gt_agent2_intent, gt_agent1_desire_belief, gt_agent2_desire_belief = extract_data_negotiationToM(item['ground_truth'])\n",
    "    pr_agent1_intent, pr_agent2_intent, pr_agent1_desire_belief, pr_agent2_desire_belief = extract_data_negotiationToM(item['response'])\n",
    "    if gt_agent1_intent==pr_agent1_intent:\n",
    "        if gt_agent2_intent==pr_agent2_intent:\n",
    "            if gt_agent1_desire_belief==pr_agent1_desire_belief:\n",
    "                if gt_agent2_desire_belief==pr_agent2_desire_belief:\n",
    "                    score+=1\n",
    "    if (gt_agent1_desire_belief[:3]==pr_agent1_desire_belief[:3]) and (gt_agent2_desire_belief[:3]==pr_agent2_desire_belief[:3]):\n",
    "        desire+=1\n",
    "        \n",
    "    if (gt_agent1_desire_belief[3:]==pr_agent1_desire_belief[3:]) and (gt_agent2_desire_belief[3:]==pr_agent2_desire_belief[3:]):\n",
    "        belief+=1\n",
    "        \n",
    "\n",
    "print(\"All Score is: \", score/len(NegotiationToM))\n",
    "print(\"Desire Score is: \", desire/len(NegotiationToM))\n",
    "print(\"Belief Score is: \", belief/len(NegotiationToM))"
   ]
  },
  {
   "cell_type": "code",
   "execution_count": 17,
   "metadata": {},
   "outputs": [
    {
     "name": "stdout",
     "output_type": "stream",
     "text": [
      "All Score is:  0.06188466947960619\n",
      "Desire Score is:  0.2390998593530239\n",
      "Belief Score is:  0.20956399437412096\n"
     ]
    }
   ],
   "source": [
    "with open('controls/NegotiationToM Middle Llama-3 3B.jsonl', 'r') as fin:\n",
    "    NegotiationToM = json.load(fin)\n",
    "score = 0\n",
    "belief = 0\n",
    "desire = 0\n",
    "intention = 0\n",
    "for idx, item in enumerate(NegotiationToM):\n",
    "    gt_agent1_intent, gt_agent2_intent, gt_agent1_desire_belief, gt_agent2_desire_belief = extract_data_negotiationToM(item['ground_truth'])\n",
    "    pr_agent1_intent, pr_agent2_intent, pr_agent1_desire_belief, pr_agent2_desire_belief = extract_data_negotiationToM(item['response'])\n",
    "    if gt_agent1_intent==pr_agent1_intent:\n",
    "        if gt_agent2_intent==pr_agent2_intent:\n",
    "            if gt_agent1_desire_belief==pr_agent1_desire_belief:\n",
    "                if gt_agent2_desire_belief==pr_agent2_desire_belief:\n",
    "                    score+=1\n",
    "    if (gt_agent1_desire_belief[:3]==pr_agent1_desire_belief[:3]) and (gt_agent2_desire_belief[:3]==pr_agent2_desire_belief[:3]):\n",
    "        desire+=1\n",
    "        \n",
    "    if (gt_agent1_desire_belief[3:]==pr_agent1_desire_belief[3:]) and (gt_agent2_desire_belief[3:]==pr_agent2_desire_belief[3:]):\n",
    "        belief+=1\n",
    "        \n",
    "\n",
    "print(\"All Score is: \", score/len(NegotiationToM))\n",
    "print(\"Desire Score is: \", desire/len(NegotiationToM))\n",
    "print(\"Belief Score is: \", belief/len(NegotiationToM))"
   ]
  },
  {
   "cell_type": "code",
   "execution_count": null,
   "metadata": {},
   "outputs": [],
   "source": []
  }
 ],
 "metadata": {
  "kernelspec": {
   "display_name": "latentqa",
   "language": "python",
   "name": "python3"
  },
  "language_info": {
   "codemirror_mode": {
    "name": "ipython",
    "version": 3
   },
   "file_extension": ".py",
   "mimetype": "text/x-python",
   "name": "python",
   "nbconvert_exporter": "python",
   "pygments_lexer": "ipython3",
   "version": "undefined.undefined.undefined"
  }
 },
 "nbformat": 4,
 "nbformat_minor": 2
}
