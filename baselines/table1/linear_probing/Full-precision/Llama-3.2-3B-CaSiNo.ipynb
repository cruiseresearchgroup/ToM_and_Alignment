{
 "cells": [
  {
   "cell_type": "code",
   "execution_count": null,
   "metadata": {
    "execution": {
     "iopub.execute_input": "2025-02-11T14:31:29.004614Z",
     "iopub.status.busy": "2025-02-11T14:31:29.004321Z",
     "iopub.status.idle": "2025-02-11T14:31:29.009822Z",
     "shell.execute_reply": "2025-02-11T14:31:29.009466Z",
     "shell.execute_reply.started": "2025-02-11T14:31:29.004596Z"
    }
   },
   "outputs": [],
   "source": [
    "import sys\n",
    "import os\n",
    "# import openai\n",
    "from tqdm import tqdm\n",
    "sys.path.append('./src')\n",
    "os.environ[\"TOKENIZERS_PARALLELISM\"] = \"false\""
   ]
  },
  {
   "cell_type": "code",
   "execution_count": 3,
   "metadata": {
    "execution": {
     "iopub.execute_input": "2025-02-11T14:31:30.965965Z",
     "iopub.status.busy": "2025-02-11T14:31:30.965597Z",
     "iopub.status.idle": "2025-02-11T14:31:34.674429Z",
     "shell.execute_reply": "2025-02-11T14:31:34.673927Z",
     "shell.execute_reply.started": "2025-02-11T14:31:30.965948Z"
    }
   },
   "outputs": [],
   "source": [
    "from transformers import AutoTokenizer, AutoModelForCausalLM\n",
    "import torch\n",
    "from tqdm.auto import tqdm\n",
    "\n",
    "from dataset import TextDataset \n",
    "\n",
    "import time\n",
    "\n",
    "from CaSiNo import *\n",
    "from common import *\n",
    "\n",
    "tic, toc = (time.time, time.time)"
   ]
  },
  {
   "cell_type": "code",
   "execution_count": null,
   "metadata": {
    "execution": {
     "iopub.execute_input": "2025-02-11T14:31:34.675467Z",
     "iopub.status.busy": "2025-02-11T14:31:34.675174Z",
     "iopub.status.idle": "2025-02-11T14:32:02.337666Z",
     "shell.execute_reply": "2025-02-11T14:32:02.336836Z",
     "shell.execute_reply.started": "2025-02-11T14:31:34.675451Z"
    }
   },
   "outputs": [
    {
     "data": {
      "application/vnd.jupyter.widget-view+json": {
       "model_id": "ba36bd7ddd12450abc218f9b6339362f",
       "version_major": 2,
       "version_minor": 0
      },
      "text/plain": [
       "Loading checkpoint shards:   0%|          | 0/2 [00:00<?, ?it/s]"
      ]
     },
     "metadata": {},
     "output_type": "display_data"
    }
   ],
   "source": [
    "tokenizer = AutoTokenizer.from_pretrained(\"meta-llama/Llama-3.2-3B-Instruct\")\n",
    "model = AutoModelForCausalLM.from_pretrained(\"meta-llama/Llama-3.2-3B-Instruct\")\n",
    "model.cuda();\n",
    "model.eval();"
   ]
  },
  {
   "cell_type": "code",
   "execution_count": 5,
   "metadata": {
    "execution": {
     "iopub.execute_input": "2025-02-11T14:32:02.866289Z",
     "iopub.status.busy": "2025-02-11T14:32:02.865989Z",
     "iopub.status.idle": "2025-02-11T14:32:02.870201Z",
     "shell.execute_reply": "2025-02-11T14:32:02.869799Z",
     "shell.execute_reply.started": "2025-02-11T14:32:02.866272Z"
    }
   },
   "outputs": [],
   "source": [
    "label_to_id = {\n",
    "    \"label1\": 0,\n",
    "    \"label2\": 1,\n",
    "    \"label3\": 2,\n",
    "    \"label4\": 3,\n",
    "    \"label5\": 4,\n",
    "    \"label6\": 5,\n",
    "}\n",
    "\n",
    "\n",
    "accuracy_dict = {}\n",
    "\n",
    "directories = [\n",
    "    [\n",
    "        \"dataset/desirem1_train/\", \n",
    "        \"dataset/desirem1_test/\",\n",
    "    ],\n",
    "    [\n",
    "        \"dataset/desirem2_train/\", \n",
    "        \"dataset/desirem2_test/\",\n",
    "    ],\n",
    "    [\n",
    "        \"dataset/beliefm1_train/\", \n",
    "        \"dataset/beliefm1_test/\",\n",
    "    ],\n",
    "    [\n",
    "        \"dataset/beliefm2_train/\", \n",
    "        \"dataset/beliefm2_test/\",\n",
    "    ],\n",
    "]\n",
    "\n",
    "\n",
    "label_idfs = [\"_desirem1_\", \"_desirem2_\", \"_beliefm1_\", \"_beliefm2_\"]\n",
    "\n",
    "\n",
    "label_to_ids = [label_to_id, label_to_id, label_to_id, label_to_id]\n",
    "\n",
    "train_min_length, train_max_length = 1, 7\n",
    "test_min_length, test_max_length = 1, 7\n",
    "\n",
    "new_prompt_format=True\n",
    "residual_stream=True\n",
    "uncertainty = False\n",
    "logistic = True\n",
    "augmented = False\n",
    "remove_last_ai_response = True\n",
    "include_inst = True\n",
    "one_hot = True\n",
    "clssification = True\n"
   ]
  },
  {
   "cell_type": "code",
   "execution_count": 6,
   "metadata": {
    "execution": {
     "iopub.execute_input": "2025-02-11T14:32:03.977454Z",
     "iopub.status.busy": "2025-02-11T14:32:03.977070Z",
     "iopub.status.idle": "2025-02-11T14:32:06.824790Z",
     "shell.execute_reply": "2025-02-11T14:32:06.824158Z",
     "shell.execute_reply.started": "2025-02-11T14:32:03.977439Z"
    }
   },
   "outputs": [],
   "source": [
    "cmd = f'python ./src/CaSiNo.py 5 5 --flag'\n",
    "!{cmd}"
   ]
  },
  {
   "cell_type": "code",
   "execution_count": 7,
   "metadata": {
    "execution": {
     "iopub.execute_input": "2025-02-11T14:32:09.122201Z",
     "iopub.status.busy": "2025-02-11T14:32:09.121919Z",
     "iopub.status.idle": "2025-02-11T14:53:25.176027Z",
     "shell.execute_reply": "2025-02-11T14:53:25.175259Z",
     "shell.execute_reply.started": "2025-02-11T14:32:09.122180Z"
    }
   },
   "outputs": [
    {
     "data": {
      "application/vnd.jupyter.widget-view+json": {
       "model_id": "",
       "version_major": 2,
       "version_minor": 0
      },
      "text/plain": [
       "Training dataset:   0%|          | 0/1012 [00:00<?, ?it/s]"
      ]
     },
     "metadata": {},
     "output_type": "display_data"
    },
    {
     "data": {
      "application/vnd.jupyter.widget-view+json": {
       "model_id": "",
       "version_major": 2,
       "version_minor": 0
      },
      "text/plain": [
       "Training Probs for [5, 15, 25] ... :   0%|          | 0/3 [00:00<?, ?it/s]"
      ]
     },
     "metadata": {},
     "output_type": "display_data"
    },
    {
     "data": {
      "application/vnd.jupyter.widget-view+json": {
       "model_id": "",
       "version_major": 2,
       "version_minor": 0
      },
      "text/plain": [
       "Test dataset:   0%|          | 0/117 [00:00<?, ?it/s]"
      ]
     },
     "metadata": {},
     "output_type": "display_data"
    },
    {
     "data": {
      "application/vnd.jupyter.widget-view+json": {
       "model_id": "",
       "version_major": 2,
       "version_minor": 0
      },
      "text/plain": [
       "Testing Probs for [5, 15, 25] ... :   0%|          | 0/3 [00:00<?, ?it/s]"
      ]
     },
     "metadata": {},
     "output_type": "display_data"
    },
    {
     "data": {
      "application/vnd.jupyter.widget-view+json": {
       "model_id": "",
       "version_major": 2,
       "version_minor": 0
      },
      "text/plain": [
       "Training dataset:   0%|          | 0/1012 [00:00<?, ?it/s]"
      ]
     },
     "metadata": {},
     "output_type": "display_data"
    },
    {
     "data": {
      "application/vnd.jupyter.widget-view+json": {
       "model_id": "",
       "version_major": 2,
       "version_minor": 0
      },
      "text/plain": [
       "Training Probs for [5, 15, 25] ... :   0%|          | 0/3 [00:00<?, ?it/s]"
      ]
     },
     "metadata": {},
     "output_type": "display_data"
    },
    {
     "data": {
      "application/vnd.jupyter.widget-view+json": {
       "model_id": "",
       "version_major": 2,
       "version_minor": 0
      },
      "text/plain": [
       "Test dataset:   0%|          | 0/117 [00:00<?, ?it/s]"
      ]
     },
     "metadata": {},
     "output_type": "display_data"
    },
    {
     "data": {
      "application/vnd.jupyter.widget-view+json": {
       "model_id": "",
       "version_major": 2,
       "version_minor": 0
      },
      "text/plain": [
       "Testing Probs for [5, 15, 25] ... :   0%|          | 0/3 [00:00<?, ?it/s]"
      ]
     },
     "metadata": {},
     "output_type": "display_data"
    },
    {
     "data": {
      "application/vnd.jupyter.widget-view+json": {
       "model_id": "",
       "version_major": 2,
       "version_minor": 0
      },
      "text/plain": [
       "Training dataset:   0%|          | 0/1012 [00:00<?, ?it/s]"
      ]
     },
     "metadata": {},
     "output_type": "display_data"
    },
    {
     "data": {
      "application/vnd.jupyter.widget-view+json": {
       "model_id": "",
       "version_major": 2,
       "version_minor": 0
      },
      "text/plain": [
       "Training Probs for [5, 15, 25] ... :   0%|          | 0/3 [00:00<?, ?it/s]"
      ]
     },
     "metadata": {},
     "output_type": "display_data"
    },
    {
     "data": {
      "application/vnd.jupyter.widget-view+json": {
       "model_id": "",
       "version_major": 2,
       "version_minor": 0
      },
      "text/plain": [
       "Test dataset:   0%|          | 0/117 [00:00<?, ?it/s]"
      ]
     },
     "metadata": {},
     "output_type": "display_data"
    },
    {
     "data": {
      "application/vnd.jupyter.widget-view+json": {
       "model_id": "",
       "version_major": 2,
       "version_minor": 0
      },
      "text/plain": [
       "Testing Probs for [5, 15, 25] ... :   0%|          | 0/3 [00:00<?, ?it/s]"
      ]
     },
     "metadata": {},
     "output_type": "display_data"
    },
    {
     "data": {
      "application/vnd.jupyter.widget-view+json": {
       "model_id": "",
       "version_major": 2,
       "version_minor": 0
      },
      "text/plain": [
       "Training dataset:   0%|          | 0/1012 [00:00<?, ?it/s]"
      ]
     },
     "metadata": {},
     "output_type": "display_data"
    },
    {
     "data": {
      "application/vnd.jupyter.widget-view+json": {
       "model_id": "",
       "version_major": 2,
       "version_minor": 0
      },
      "text/plain": [
       "Training Probs for [5, 15, 25] ... :   0%|          | 0/3 [00:00<?, ?it/s]"
      ]
     },
     "metadata": {},
     "output_type": "display_data"
    },
    {
     "data": {
      "application/vnd.jupyter.widget-view+json": {
       "model_id": "",
       "version_major": 2,
       "version_minor": 0
      },
      "text/plain": [
       "Test dataset:   0%|          | 0/117 [00:00<?, ?it/s]"
      ]
     },
     "metadata": {},
     "output_type": "display_data"
    },
    {
     "data": {
      "application/vnd.jupyter.widget-view+json": {
       "model_id": "",
       "version_major": 2,
       "version_minor": 0
      },
      "text/plain": [
       "Testing Probs for [5, 15, 25] ... :   0%|          | 0/3 [00:00<?, ?it/s]"
      ]
     },
     "metadata": {},
     "output_type": "display_data"
    }
   ],
   "source": [
    "for directory, label_idf, label_to_id in zip(directories, label_idfs, label_to_ids):\n",
    "    torch.cuda.empty_cache()\n",
    "    # creating training and validation datasets\n",
    "    train_dataset = TextDataset(directory[0], tokenizer, model, label_idf=label_idf, label_to_id=label_to_id,\n",
    "                        convert_to_llama2_format=True, additional_datas=[], \n",
    "                        new_format=new_prompt_format,\n",
    "                        residual_stream=residual_stream, if_augmented=augmented, \n",
    "                        remove_last_ai_response=remove_last_ai_response, include_inst=include_inst, k=1,\n",
    "                        one_hot=False, last_tok_pos=-1, desc=f'Training dataset', classification=clssification)\n",
    "    \n",
    "    # converting datasets to a list of vectors \n",
    "    layers = model.config.num_hidden_layers\n",
    "    X_train = {idx:[] for idx in [5, 15, 25]}\n",
    "    for sample in range(len(train_dataset)):\n",
    "        for idx in [5, 15, 25]:\n",
    "            X_train[idx].append(train_dataset[sample]['hidden_states'][idx])\n",
    "    y_train = [item[label_idf.strip('_')] for item in train_dataset]\n",
    "    # print(X_train[1], y_train[1])\n",
    "    # break \n",
    "    \n",
    "    param_grid = {\n",
    "    'classifier__C': [0.1, 1, 10],  # Regularization strengths\n",
    "    'classifier__penalty': ['l1', 'l2', 'elasticnet'],  # Regularization types\n",
    "    'classifier__solver': ['liblinear', 'saga', 'lbfgs']  # Solvers compatible with different penalties\n",
    "    }\n",
    "    \n",
    "    \n",
    "    pipelines = {}\n",
    "    for layer in tqdm([5, 15, 25], total=3, desc=f'Training Probs for {[5, 15, 25]} ... ', leave=False):\n",
    "        # best_pipeline, validation_metrics = train_and_tune_logistic_regression(X_train[layer], y_train, X_valid[layer], y_valid, {})\n",
    "        best_pipeline = fit_logistic_regression_with_pca(X_train[layer], y_train)\n",
    "        pipelines[layer] = best_pipeline\n",
    "\n",
    "    # for test_length in range(test_min_length, test_max_length):\n",
    "    # cmd = f'python ./src/CaSiNo.py 4 3'\n",
    "    # !{cmd}\n",
    "    \n",
    "    test_dataset = TextDataset(directory[1], tokenizer, model, label_idf=label_idf, label_to_id=label_to_id,\n",
    "                convert_to_llama2_format=True, additional_datas=[], \n",
    "                new_format=new_prompt_format,\n",
    "                residual_stream=residual_stream, if_augmented=augmented, \n",
    "                remove_last_ai_response=remove_last_ai_response, include_inst=include_inst, k=1,\n",
    "                one_hot=False, last_tok_pos=-1, desc=f'Test dataset', classification=clssification)\n",
    "\n",
    "    X_test = {idx:[] for idx in [5, 15, 25]}\n",
    "    for sample in range(len(test_dataset)):\n",
    "        for idx in [5, 15, 25]:\n",
    "            X_test[idx].append(test_dataset[sample]['hidden_states'][idx])\n",
    "    y_test = [item[label_idf.strip('_')] for item in test_dataset]\n",
    "\n",
    "    accuracy_array = {}\n",
    "    for layer in tqdm([5, 15, 25], total=3, desc=f'Testing Probs for {[5, 15, 25]} ... ', leave=False):\n",
    "        pred = pipelines[layer].predict(X_test[layer])\n",
    "        # temp_acc = accuracy_score(y_test, pred)\n",
    "        # print(f'Label {directory[0].split(\"_\")[0].split(\"/\")[-1]}, Train: {train_length}, Test: {test_length}, Accuracy: {temp_acc}')\n",
    "        accuracy_array[layer] = {'pred':pred, 'act':y_test}\n",
    "        \n",
    "    accuracy_dict[f'{directory[0].split(\"_\")[0].split(\"/\")[-1]}'] = accuracy_array"
   ]
  },
  {
   "cell_type": "code",
   "execution_count": 8,
   "metadata": {
    "execution": {
     "iopub.execute_input": "2025-02-11T14:55:04.649064Z",
     "iopub.status.busy": "2025-02-11T14:55:04.648676Z",
     "iopub.status.idle": "2025-02-11T14:55:04.653348Z",
     "shell.execute_reply": "2025-02-11T14:55:04.652892Z",
     "shell.execute_reply.started": "2025-02-11T14:55:04.649047Z"
    }
   },
   "outputs": [
    {
     "data": {
      "text/plain": [
       "117"
      ]
     },
     "execution_count": 8,
     "metadata": {},
     "output_type": "execute_result"
    }
   ],
   "source": [
    "len(accuracy_dict['desirem1'][5]['pred'])\n"
   ]
  },
  {
   "cell_type": "code",
   "execution_count": 9,
   "metadata": {
    "execution": {
     "iopub.execute_input": "2025-02-11T14:55:07.682935Z",
     "iopub.status.busy": "2025-02-11T14:55:07.682391Z",
     "iopub.status.idle": "2025-02-11T14:55:07.687743Z",
     "shell.execute_reply": "2025-02-11T14:55:07.687283Z",
     "shell.execute_reply.started": "2025-02-11T14:55:07.682918Z"
    }
   },
   "outputs": [
    {
     "name": "stdout",
     "output_type": "stream",
     "text": [
      "The accuracy for CaSiNo layer 5:\tBoth: 0.03\tUser: 0.19\tAssistant: 0.17\n",
      "The accuracy for CaSiNo layer 15:\tBoth: 0.05\tUser: 0.18\tAssistant: 0.22\n",
      "The accuracy for CaSiNo layer 25:\tBoth: 0.03\tUser: 0.19\tAssistant: 0.21\n"
     ]
    }
   ],
   "source": [
    "for layer in [5, 15, 25]: \n",
    "    desirem1_act = accuracy_dict['desirem1'][layer]['act']\n",
    "    desirem1_pred = accuracy_dict['desirem1'][layer]['pred']\n",
    "\n",
    "    desirem2_act = accuracy_dict['desirem2'][layer]['act']\n",
    "    desirem2_pred = accuracy_dict['desirem2'][layer]['pred']\n",
    "\n",
    "    beliefm1_act = accuracy_dict['beliefm1'][layer]['act']\n",
    "    beliefm1_pred = accuracy_dict['beliefm1'][layer]['pred']\n",
    "\n",
    "    beliefm2_act = accuracy_dict['beliefm2'][layer]['act']\n",
    "    beliefm2_pred = accuracy_dict['beliefm2'][layer]['pred']\n",
    "    a1, a2, both = 0, 0, 0\n",
    "    for idx in range(len(desirem1_act)):\n",
    "        if (desirem1_act[idx]==desirem1_pred[idx]):\n",
    "            a1+=1\n",
    "        if (desirem2_act[idx]==desirem2_pred[idx]):\n",
    "            a2+=1\n",
    "        if (desirem1_act[idx]==desirem1_pred[idx]) and (desirem2_act[idx]==desirem2_pred[idx]):\n",
    "            both+=1\n",
    "    print(f\"The accuracy for CaSiNo layer {layer}:\\tBoth: {round(both/len(desirem1_act), 2)}\\tUser: {round(a1/len(desirem1_act), 2)}\\tAssistant: {round(a2/len(desirem1_act), 2)}\")\n",
    "\n",
    "\n",
    "\n",
    "\n",
    "\n"
   ]
  },
  {
   "cell_type": "code",
   "execution_count": null,
   "metadata": {},
   "outputs": [],
   "source": []
  }
 ],
 "metadata": {
  "kernelspec": {
   "display_name": "saturn (Python 3)",
   "language": "python",
   "name": "python3"
  },
  "language_info": {
   "codemirror_mode": {
    "name": "ipython",
    "version": 3
   },
   "file_extension": ".py",
   "mimetype": "text/x-python",
   "name": "python",
   "nbconvert_exporter": "python",
   "pygments_lexer": "ipython3",
   "version": "3.12.7"
  }
 },
 "nbformat": 4,
 "nbformat_minor": 4
}
