{
 "cells": [
  {
   "cell_type": "code",
   "execution_count": null,
   "metadata": {
    "execution": {
     "iopub.execute_input": "2025-02-11T11:35:52.591182Z",
     "iopub.status.busy": "2025-02-11T11:35:52.590967Z",
     "iopub.status.idle": "2025-02-11T11:35:52.594007Z",
     "shell.execute_reply": "2025-02-11T11:35:52.593624Z",
     "shell.execute_reply.started": "2025-02-11T11:35:52.591162Z"
    }
   },
   "outputs": [],
   "source": [
    "import sys\n",
    "import os\n",
    "sys.path.append('./src')\n",
    "os.environ[\"TOKENIZERS_PARALLELISM\"] = \"false\""
   ]
  },
  {
   "cell_type": "code",
   "execution_count": 2,
   "metadata": {
    "execution": {
     "iopub.execute_input": "2025-02-11T11:35:56.439767Z",
     "iopub.status.busy": "2025-02-11T11:35:56.439365Z",
     "iopub.status.idle": "2025-02-11T11:35:59.333795Z",
     "shell.execute_reply": "2025-02-11T11:35:59.333273Z",
     "shell.execute_reply.started": "2025-02-11T11:35:56.439744Z"
    }
   },
   "outputs": [],
   "source": [
    "from src.CRAIGSLISTBARGAIN import *\n",
    "from src.dataset import SimpleTextDataset\n",
    "from sklearn.metrics import r2_score"
   ]
  },
  {
   "cell_type": "code",
   "execution_count": 3,
   "metadata": {
    "execution": {
     "iopub.execute_input": "2025-02-11T11:36:09.398038Z",
     "iopub.status.busy": "2025-02-11T11:36:09.397453Z",
     "iopub.status.idle": "2025-02-11T11:36:11.099255Z",
     "shell.execute_reply": "2025-02-11T11:36:11.098770Z",
     "shell.execute_reply.started": "2025-02-11T11:36:09.398020Z"
    }
   },
   "outputs": [],
   "source": [
    "\n",
    "from transformers import AutoTokenizer, AutoModelForCausalLM\n",
    "import torch\n",
    "from tqdm.auto import tqdm\n",
    "\n",
    "from dataset import TextDataset \n",
    "\n",
    "import time\n",
    "\n",
    "# from CaSiNo import *\n",
    "from common import *\n",
    "\n",
    "tic, toc = (time.time, time.time)"
   ]
  },
  {
   "cell_type": "code",
   "execution_count": null,
   "metadata": {
    "execution": {
     "iopub.execute_input": "2025-02-11T11:36:15.378578Z",
     "iopub.status.busy": "2025-02-11T11:36:15.377716Z",
     "iopub.status.idle": "2025-02-11T11:46:11.635979Z",
     "shell.execute_reply": "2025-02-11T11:46:11.635127Z",
     "shell.execute_reply.started": "2025-02-11T11:36:15.378558Z"
    }
   },
   "outputs": [
    {
     "data": {
      "application/vnd.jupyter.widget-view+json": {
       "model_id": "b9c7d1df8caa4c35ac1de2efe5aad7f2",
       "version_major": 2,
       "version_minor": 0
      },
      "text/plain": [
       "Loading checkpoint shards:   0%|          | 0/4 [00:00<?, ?it/s]"
      ]
     },
     "metadata": {},
     "output_type": "display_data"
    }
   ],
   "source": [
    "tokenizer = AutoTokenizer.from_pretrained(\"meta-llama/Meta-Llama-3-8B-Instruct\")\n",
    "model = AutoModelForCausalLM.from_pretrained(\"meta-llama/Meta-Llama-3-8B-Instruct\")\n",
    "model.cuda();\n",
    "model.eval();"
   ]
  },
  {
   "cell_type": "code",
   "execution_count": 6,
   "metadata": {
    "execution": {
     "iopub.execute_input": "2025-02-11T07:36:03.396035Z",
     "iopub.status.busy": "2025-02-11T07:36:03.395743Z",
     "iopub.status.idle": "2025-02-11T07:36:03.988998Z",
     "shell.execute_reply": "2025-02-11T07:36:03.988537Z",
     "shell.execute_reply.started": "2025-02-11T07:36:03.396016Z"
    }
   },
   "outputs": [],
   "source": [
    "train = fetch_and_prepare_dataset('./dataset/CRAIGSLISTBARGAIN/train.json')\n",
    "# valid = fetch_and_prepare_dataset('./dataset/CRAIGSLISTBARGAIN/valid.json')\n",
    "valid = fetch_and_prepare_dataset('./dataset/CRAIGSLISTBARGAIN/test.json')"
   ]
  },
  {
   "cell_type": "code",
   "execution_count": 7,
   "metadata": {
    "execution": {
     "iopub.execute_input": "2025-02-11T07:36:09.722024Z",
     "iopub.status.busy": "2025-02-11T07:36:09.721764Z",
     "iopub.status.idle": "2025-02-11T07:36:09.771373Z",
     "shell.execute_reply": "2025-02-11T07:36:09.770981Z",
     "shell.execute_reply.started": "2025-02-11T07:36:09.722008Z"
    }
   },
   "outputs": [],
   "source": [
    "train['quintile'] = pd.qcut(train['buyer_price'], q=20, labels=[int(i) for i in range(1, 21)])\n",
    "train_dialogs = train[(train.chat_log.apply(lambda item:len(item)>8))&(train['quintile']<18)].apply(lambda row: causal_dialogue_merge(row, ), axis=1).to_list()\n",
    "valid_dialogs = valid[(valid.chat_log.apply(lambda item:len(item)>8))&(valid['buyer_price']<2450)].apply(lambda row: causal_dialogue_merge(row, ), axis=1).to_list()"
   ]
  },
  {
   "cell_type": "code",
   "execution_count": 8,
   "metadata": {
    "execution": {
     "iopub.execute_input": "2025-02-11T07:36:12.449972Z",
     "iopub.status.busy": "2025-02-11T07:36:12.449577Z",
     "iopub.status.idle": "2025-02-11T07:46:29.644824Z",
     "shell.execute_reply": "2025-02-11T07:46:29.644246Z",
     "shell.execute_reply.started": "2025-02-11T07:36:12.449952Z"
    }
   },
   "outputs": [
    {
     "data": {
      "application/vnd.jupyter.widget-view+json": {
       "model_id": "9cc965a17d764ae7931dc2c749e95562",
       "version_major": 2,
       "version_minor": 0
      },
      "text/plain": [
       "  0%|          | 0/2643 [00:00<?, ?it/s]"
      ]
     },
     "metadata": {},
     "output_type": "display_data"
    },
    {
     "data": {
      "application/vnd.jupyter.widget-view+json": {
       "model_id": "323797483bca4b1c8807e425fcfd33f1",
       "version_major": 2,
       "version_minor": 0
      },
      "text/plain": [
       "  0%|          | 0/429 [00:00<?, ?it/s]"
      ]
     },
     "metadata": {},
     "output_type": "display_data"
    }
   ],
   "source": [
    "X_train = [(item['hidden_states'][5], item['hidden_states'][15], item['hidden_states'][25]) for item in SimpleTextDataset(train_dialogs, tokenizer=tokenizer, model=model, residual_stream=True)]\n",
    "y_train = train[(train.chat_log.apply(lambda item:len(item)>8))&(train['quintile']<18)]['buyer_price'].to_list()\n",
    "\n",
    "X_valid = [(item['hidden_states'][5], item['hidden_states'][15], item['hidden_states'][25]) for item in SimpleTextDataset(valid_dialogs, tokenizer=tokenizer, model=model, residual_stream=True)]\n",
    "y_valid = valid[(valid.chat_log.apply(lambda item:len(item)>8))&(valid['buyer_price']<2450)]['buyer_price'].to_list()\n"
   ]
  },
  {
   "cell_type": "code",
   "execution_count": 9,
   "metadata": {
    "execution": {
     "iopub.execute_input": "2025-02-11T07:46:31.578854Z",
     "iopub.status.busy": "2025-02-11T07:46:31.578557Z",
     "iopub.status.idle": "2025-02-11T08:14:51.865378Z",
     "shell.execute_reply": "2025-02-11T08:14:51.864579Z",
     "shell.execute_reply.started": "2025-02-11T07:46:31.578838Z"
    }
   },
   "outputs": [
    {
     "name": "stdout",
     "output_type": "stream",
     "text": [
      "For the layer 5 R^2 score for the buyer_price: 0.41\n",
      "For the layer 15 R^2 score for the buyer_price: 0.4\n",
      "For the layer 25 R^2 score for the buyer_price: 0.45\n"
     ]
    }
   ],
   "source": [
    "param_grid = {\n",
    "            'pca__n_components': [n for n in range(0, 500, 100)],\n",
    "            'regressor__alpha': [0],\n",
    "        }\n",
    "for layer in range(3):\n",
    "    X = [item[layer].squeeze().numpy() for item in X_train]\n",
    "    scaler = StandardScaler()\n",
    "    transformed_y = scaler.fit_transform(np.array(y_train).reshape(-1, 1))\n",
    "    best_estimator_, best_score_, gs_best_params = fit_ridge_regression_pipeline(X, transformed_y, param_grid=param_grid)\n",
    "    XT = [item[layer].squeeze().numpy() for item in X_valid]\n",
    "    pred = best_estimator_.predict(XT)\n",
    "    scaled_pred = scaler.inverse_transform(pred)\n",
    "    base_r2 = r2_score(y_valid, scaled_pred)\n",
    "    print(f'For the layer {[5, 15, 25][layer]} R^2 score for the buyer_price: {round(base_r2, 2)}')\n"
   ]
  },
  {
   "cell_type": "code",
   "execution_count": 5,
   "metadata": {
    "execution": {
     "iopub.execute_input": "2025-02-11T11:47:27.060718Z",
     "iopub.status.busy": "2025-02-11T11:47:27.060315Z",
     "iopub.status.idle": "2025-02-11T11:47:27.686775Z",
     "shell.execute_reply": "2025-02-11T11:47:27.686252Z",
     "shell.execute_reply.started": "2025-02-11T11:47:27.060699Z"
    }
   },
   "outputs": [],
   "source": [
    "train = fetch_and_prepare_dataset('./dataset/CRAIGSLISTBARGAIN/train.json')\n",
    "# valid = fetch_and_prepare_dataset('./dataset/CRAIGSLISTBARGAIN/valid.json')\n",
    "valid = fetch_and_prepare_dataset('./dataset/CRAIGSLISTBARGAIN/test.json')"
   ]
  },
  {
   "cell_type": "code",
   "execution_count": 6,
   "metadata": {
    "execution": {
     "iopub.execute_input": "2025-02-11T11:47:29.065207Z",
     "iopub.status.busy": "2025-02-11T11:47:29.064609Z",
     "iopub.status.idle": "2025-02-11T11:47:29.113153Z",
     "shell.execute_reply": "2025-02-11T11:47:29.112655Z",
     "shell.execute_reply.started": "2025-02-11T11:47:29.065188Z"
    }
   },
   "outputs": [],
   "source": [
    "train['quintile'] = pd.qcut(train['seller_price'], q=20, labels=[int(i) for i in range(1, 21)])\n",
    "train_dialogs = train[(train.chat_log.apply(lambda item:len(item)>8))&(train['quintile']<18)].apply(lambda row: causal_dialogue_merge(row, ), axis=1).to_list()\n",
    "valid_dialogs = valid[(valid.chat_log.apply(lambda item:len(item)>8))&(valid['seller_price']<3400)].apply(lambda row: causal_dialogue_merge(row, ), axis=1).to_list()"
   ]
  },
  {
   "cell_type": "code",
   "execution_count": 7,
   "metadata": {
    "execution": {
     "iopub.execute_input": "2025-02-11T11:47:30.407868Z",
     "iopub.status.busy": "2025-02-11T11:47:30.407229Z",
     "iopub.status.idle": "2025-02-11T11:57:49.207704Z",
     "shell.execute_reply": "2025-02-11T11:57:49.207085Z",
     "shell.execute_reply.started": "2025-02-11T11:47:30.407844Z"
    }
   },
   "outputs": [
    {
     "data": {
      "application/vnd.jupyter.widget-view+json": {
       "model_id": "d150e4d648f44f55a94c58d02b9e7948",
       "version_major": 2,
       "version_minor": 0
      },
      "text/plain": [
       "  0%|          | 0/2630 [00:00<?, ?it/s]"
      ]
     },
     "metadata": {},
     "output_type": "display_data"
    },
    {
     "data": {
      "application/vnd.jupyter.widget-view+json": {
       "model_id": "7d7f13be527c4e0ab3729b6f1c5b4072",
       "version_major": 2,
       "version_minor": 0
      },
      "text/plain": [
       "  0%|          | 0/424 [00:00<?, ?it/s]"
      ]
     },
     "metadata": {},
     "output_type": "display_data"
    }
   ],
   "source": [
    "X_train = [(item['hidden_states'][5], item['hidden_states'][15], item['hidden_states'][25]) for item in SimpleTextDataset(train_dialogs, tokenizer=tokenizer, model=model, residual_stream=True)]\n",
    "y_train = train[(train.chat_log.apply(lambda item:len(item)>8))&(train['quintile']<18)]['seller_price'].to_list()\n",
    "\n",
    "X_valid = [(item['hidden_states'][5], item['hidden_states'][15], item['hidden_states'][25]) for item in SimpleTextDataset(valid_dialogs, tokenizer=tokenizer, model=model, residual_stream=True)]\n",
    "y_valid = valid[(valid.chat_log.apply(lambda item:len(item)>8))&(valid['seller_price']<3400)]['seller_price'].to_list()\n"
   ]
  },
  {
   "cell_type": "code",
   "execution_count": 8,
   "metadata": {
    "execution": {
     "iopub.execute_input": "2025-02-11T11:57:52.181290Z",
     "iopub.status.busy": "2025-02-11T11:57:52.180966Z",
     "iopub.status.idle": "2025-02-11T12:26:03.975462Z",
     "shell.execute_reply": "2025-02-11T12:26:03.974708Z",
     "shell.execute_reply.started": "2025-02-11T11:57:52.181272Z"
    }
   },
   "outputs": [
    {
     "name": "stdout",
     "output_type": "stream",
     "text": [
      "For the layer 5 R^2 score for the Seller_price: 0.5\n",
      "For the layer 15 R^2 score for the Seller_price: 0.36\n",
      "For the layer 25 R^2 score for the Seller_price: 0.46\n"
     ]
    }
   ],
   "source": [
    "param_grid = {\n",
    "            'pca__n_components': [n for n in range(0, 500, 100)],\n",
    "            'regressor__alpha': [0],\n",
    "        }\n",
    "for layer in range(3):\n",
    "    X = [item[layer].squeeze().numpy() for item in X_train]\n",
    "    scaler = StandardScaler()\n",
    "    transformed_y = scaler.fit_transform(np.array(y_train).reshape(-1, 1))\n",
    "    best_estimator_, best_score_, gs_best_params = fit_ridge_regression_pipeline(X, transformed_y, param_grid=param_grid)\n",
    "    XT = [item[layer].squeeze().numpy() for item in X_valid]\n",
    "    pred = best_estimator_.predict(XT)\n",
    "    scaled_pred = scaler.inverse_transform(pred)\n",
    "    base_r2 = r2_score(y_valid, scaled_pred)\n",
    "    print(f'For the layer {[5, 15, 25][layer]} R^2 score for the Seller_price: {round(base_r2, 2)}')\n"
   ]
  },
  {
   "cell_type": "code",
   "execution_count": null,
   "metadata": {},
   "outputs": [],
   "source": []
  }
 ],
 "metadata": {
  "kernelspec": {
   "display_name": "saturn (Python 3)",
   "language": "python",
   "name": "python3"
  },
  "language_info": {
   "codemirror_mode": {
    "name": "ipython",
    "version": 3
   },
   "file_extension": ".py",
   "mimetype": "text/x-python",
   "name": "python",
   "nbconvert_exporter": "python",
   "pygments_lexer": "ipython3",
   "version": "3.12.7"
  }
 },
 "nbformat": 4,
 "nbformat_minor": 4
}
