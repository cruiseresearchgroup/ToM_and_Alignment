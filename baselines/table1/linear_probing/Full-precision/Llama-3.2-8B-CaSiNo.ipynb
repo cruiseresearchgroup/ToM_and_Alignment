{
 "cells": [
  {
   "cell_type": "code",
   "execution_count": null,
   "metadata": {
    "execution": {
     "iopub.execute_input": "2025-02-11T12:40:49.710299Z",
     "iopub.status.busy": "2025-02-11T12:40:49.710010Z",
     "iopub.status.idle": "2025-02-11T12:40:49.715914Z",
     "shell.execute_reply": "2025-02-11T12:40:49.715596Z",
     "shell.execute_reply.started": "2025-02-11T12:40:49.710282Z"
    }
   },
   "outputs": [],
   "source": [
    "import sys\n",
    "import os\n",
    "# import openai\n",
    "from tqdm import tqdm\n",
    "sys.path.append('./src')\n",
    "os.environ[\"TOKENIZERS_PARALLELISM\"] = \"false\"\n"
   ]
  },
  {
   "cell_type": "code",
   "execution_count": 2,
   "metadata": {
    "execution": {
     "iopub.execute_input": "2025-02-11T12:40:51.743761Z",
     "iopub.status.busy": "2025-02-11T12:40:51.743160Z",
     "iopub.status.idle": "2025-02-11T12:40:55.505334Z",
     "shell.execute_reply": "2025-02-11T12:40:55.504860Z",
     "shell.execute_reply.started": "2025-02-11T12:40:51.743745Z"
    }
   },
   "outputs": [],
   "source": [
    "from transformers import AutoTokenizer, AutoModelForCausalLM\n",
    "import torch\n",
    "from tqdm.auto import tqdm\n",
    "\n",
    "from dataset import TextDataset \n",
    "\n",
    "import time\n",
    "\n",
    "from CaSiNo import *\n",
    "from common import *\n",
    "\n",
    "tic, toc = (time.time, time.time)"
   ]
  },
  {
   "cell_type": "code",
   "execution_count": null,
   "metadata": {
    "execution": {
     "iopub.execute_input": "2025-02-11T12:40:55.506277Z",
     "iopub.status.busy": "2025-02-11T12:40:55.506000Z",
     "iopub.status.idle": "2025-02-11T12:41:35.227189Z",
     "shell.execute_reply": "2025-02-11T12:41:35.226404Z",
     "shell.execute_reply.started": "2025-02-11T12:40:55.506260Z"
    }
   },
   "outputs": [
    {
     "data": {
      "application/vnd.jupyter.widget-view+json": {
       "model_id": "e38a4a410a29431daf1757a762ae0b59",
       "version_major": 2,
       "version_minor": 0
      },
      "text/plain": [
       "Loading checkpoint shards:   0%|          | 0/4 [00:00<?, ?it/s]"
      ]
     },
     "metadata": {},
     "output_type": "display_data"
    }
   ],
   "source": [
    "tokenizer = AutoTokenizer.from_pretrained(\"meta-llama/Meta-Llama-3-8B-Instruct\")\n",
    "model = AutoModelForCausalLM.from_pretrained(\"meta-llama/Meta-Llama-3-8B-Instruct\")\n",
    "model.cuda();\n",
    "model.eval();"
   ]
  },
  {
   "cell_type": "code",
   "execution_count": 4,
   "metadata": {
    "execution": {
     "iopub.execute_input": "2025-02-11T12:42:35.089740Z",
     "iopub.status.busy": "2025-02-11T12:42:35.089426Z",
     "iopub.status.idle": "2025-02-11T12:42:35.093867Z",
     "shell.execute_reply": "2025-02-11T12:42:35.093468Z",
     "shell.execute_reply.started": "2025-02-11T12:42:35.089721Z"
    }
   },
   "outputs": [],
   "source": [
    "label_to_id = {\n",
    "    \"label1\": 0,\n",
    "    \"label2\": 1,\n",
    "    \"label3\": 2,\n",
    "    \"label4\": 3,\n",
    "    \"label5\": 4,\n",
    "    \"label6\": 5,\n",
    "}\n",
    "\n",
    "\n",
    "accuracy_dict = {}\n",
    "\n",
    "directories = [\n",
    "    [\n",
    "        \"dataset/desirem1_train/\", \n",
    "        \"dataset/desirem1_test/\",\n",
    "    ],\n",
    "    [\n",
    "        \"dataset/desirem2_train/\", \n",
    "        \"dataset/desirem2_test/\",\n",
    "    ],\n",
    "    [\n",
    "        \"dataset/beliefm1_train/\", \n",
    "        \"dataset/beliefm1_test/\",\n",
    "    ],\n",
    "    [\n",
    "        \"dataset/beliefm2_train/\", \n",
    "        \"dataset/beliefm2_test/\",\n",
    "    ],\n",
    "]\n",
    "\n",
    "\n",
    "label_idfs = [\"_desirem1_\", \"_desirem2_\", \"_beliefm1_\", \"_beliefm2_\"]\n",
    "\n",
    "\n",
    "label_to_ids = [label_to_id, label_to_id, label_to_id, label_to_id]\n",
    "\n",
    "train_min_length, train_max_length = 1, 7\n",
    "test_min_length, test_max_length = 1, 7\n",
    "\n",
    "new_prompt_format=True\n",
    "residual_stream=True\n",
    "uncertainty = False\n",
    "logistic = True\n",
    "augmented = False\n",
    "remove_last_ai_response = True\n",
    "include_inst = True\n",
    "one_hot = True\n",
    "clssification = True\n"
   ]
  },
  {
   "cell_type": "code",
   "execution_count": 5,
   "metadata": {
    "execution": {
     "iopub.execute_input": "2025-02-11T12:42:40.057201Z",
     "iopub.status.busy": "2025-02-11T12:42:40.056779Z",
     "iopub.status.idle": "2025-02-11T12:42:42.793342Z",
     "shell.execute_reply": "2025-02-11T12:42:42.792703Z",
     "shell.execute_reply.started": "2025-02-11T12:42:40.057169Z"
    }
   },
   "outputs": [],
   "source": [
    "cmd = f'python ./src/CaSiNo.py 5 5 --flag'\n",
    "!{cmd}"
   ]
  },
  {
   "cell_type": "code",
   "execution_count": 6,
   "metadata": {
    "execution": {
     "iopub.execute_input": "2025-02-11T12:42:44.816979Z",
     "iopub.status.busy": "2025-02-11T12:42:44.816683Z",
     "iopub.status.idle": "2025-02-11T13:26:59.275200Z",
     "shell.execute_reply": "2025-02-11T13:26:59.273890Z",
     "shell.execute_reply.started": "2025-02-11T12:42:44.816957Z"
    }
   },
   "outputs": [
    {
     "data": {
      "application/vnd.jupyter.widget-view+json": {
       "model_id": "",
       "version_major": 2,
       "version_minor": 0
      },
      "text/plain": [
       "Training dataset:   0%|          | 0/1012 [00:00<?, ?it/s]"
      ]
     },
     "metadata": {},
     "output_type": "display_data"
    },
    {
     "data": {
      "application/vnd.jupyter.widget-view+json": {
       "model_id": "",
       "version_major": 2,
       "version_minor": 0
      },
      "text/plain": [
       "Training Probs for [5, 15, 25] ... :   0%|          | 0/3 [00:00<?, ?it/s]"
      ]
     },
     "metadata": {},
     "output_type": "display_data"
    },
    {
     "data": {
      "application/vnd.jupyter.widget-view+json": {
       "model_id": "",
       "version_major": 2,
       "version_minor": 0
      },
      "text/plain": [
       "Test dataset:   0%|          | 0/117 [00:00<?, ?it/s]"
      ]
     },
     "metadata": {},
     "output_type": "display_data"
    },
    {
     "data": {
      "application/vnd.jupyter.widget-view+json": {
       "model_id": "",
       "version_major": 2,
       "version_minor": 0
      },
      "text/plain": [
       "Testing Probs for [5, 15, 25] ... :   0%|          | 0/3 [00:00<?, ?it/s]"
      ]
     },
     "metadata": {},
     "output_type": "display_data"
    },
    {
     "data": {
      "application/vnd.jupyter.widget-view+json": {
       "model_id": "",
       "version_major": 2,
       "version_minor": 0
      },
      "text/plain": [
       "Training dataset:   0%|          | 0/1012 [00:00<?, ?it/s]"
      ]
     },
     "metadata": {},
     "output_type": "display_data"
    },
    {
     "data": {
      "application/vnd.jupyter.widget-view+json": {
       "model_id": "",
       "version_major": 2,
       "version_minor": 0
      },
      "text/plain": [
       "Training Probs for [5, 15, 25] ... :   0%|          | 0/3 [00:00<?, ?it/s]"
      ]
     },
     "metadata": {},
     "output_type": "display_data"
    },
    {
     "data": {
      "application/vnd.jupyter.widget-view+json": {
       "model_id": "",
       "version_major": 2,
       "version_minor": 0
      },
      "text/plain": [
       "Test dataset:   0%|          | 0/117 [00:00<?, ?it/s]"
      ]
     },
     "metadata": {},
     "output_type": "display_data"
    },
    {
     "data": {
      "application/vnd.jupyter.widget-view+json": {
       "model_id": "",
       "version_major": 2,
       "version_minor": 0
      },
      "text/plain": [
       "Testing Probs for [5, 15, 25] ... :   0%|          | 0/3 [00:00<?, ?it/s]"
      ]
     },
     "metadata": {},
     "output_type": "display_data"
    },
    {
     "data": {
      "application/vnd.jupyter.widget-view+json": {
       "model_id": "",
       "version_major": 2,
       "version_minor": 0
      },
      "text/plain": [
       "Training dataset:   0%|          | 0/1012 [00:00<?, ?it/s]"
      ]
     },
     "metadata": {},
     "output_type": "display_data"
    },
    {
     "data": {
      "application/vnd.jupyter.widget-view+json": {
       "model_id": "",
       "version_major": 2,
       "version_minor": 0
      },
      "text/plain": [
       "Training Probs for [5, 15, 25] ... :   0%|          | 0/3 [00:00<?, ?it/s]"
      ]
     },
     "metadata": {},
     "output_type": "display_data"
    },
    {
     "data": {
      "application/vnd.jupyter.widget-view+json": {
       "model_id": "",
       "version_major": 2,
       "version_minor": 0
      },
      "text/plain": [
       "Test dataset:   0%|          | 0/117 [00:00<?, ?it/s]"
      ]
     },
     "metadata": {},
     "output_type": "display_data"
    },
    {
     "data": {
      "application/vnd.jupyter.widget-view+json": {
       "model_id": "",
       "version_major": 2,
       "version_minor": 0
      },
      "text/plain": [
       "Testing Probs for [5, 15, 25] ... :   0%|          | 0/3 [00:00<?, ?it/s]"
      ]
     },
     "metadata": {},
     "output_type": "display_data"
    },
    {
     "data": {
      "application/vnd.jupyter.widget-view+json": {
       "model_id": "",
       "version_major": 2,
       "version_minor": 0
      },
      "text/plain": [
       "Training dataset:   0%|          | 0/1012 [00:00<?, ?it/s]"
      ]
     },
     "metadata": {},
     "output_type": "display_data"
    },
    {
     "data": {
      "application/vnd.jupyter.widget-view+json": {
       "model_id": "",
       "version_major": 2,
       "version_minor": 0
      },
      "text/plain": [
       "Training Probs for [5, 15, 25] ... :   0%|          | 0/3 [00:00<?, ?it/s]"
      ]
     },
     "metadata": {},
     "output_type": "display_data"
    },
    {
     "data": {
      "application/vnd.jupyter.widget-view+json": {
       "model_id": "",
       "version_major": 2,
       "version_minor": 0
      },
      "text/plain": [
       "Test dataset:   0%|          | 0/117 [00:00<?, ?it/s]"
      ]
     },
     "metadata": {},
     "output_type": "display_data"
    },
    {
     "data": {
      "application/vnd.jupyter.widget-view+json": {
       "model_id": "",
       "version_major": 2,
       "version_minor": 0
      },
      "text/plain": [
       "Testing Probs for [5, 15, 25] ... :   0%|          | 0/3 [00:00<?, ?it/s]"
      ]
     },
     "metadata": {},
     "output_type": "display_data"
    }
   ],
   "source": [
    "for directory, label_idf, label_to_id in zip(directories, label_idfs, label_to_ids):\n",
    "    torch.cuda.empty_cache()\n",
    "    # creating training and validation datasets\n",
    "    train_dataset = TextDataset(directory[0], tokenizer, model, label_idf=label_idf, label_to_id=label_to_id,\n",
    "                        convert_to_llama2_format=True, additional_datas=[], \n",
    "                        new_format=new_prompt_format,\n",
    "                        residual_stream=residual_stream, if_augmented=augmented, \n",
    "                        remove_last_ai_response=remove_last_ai_response, include_inst=include_inst, k=1,\n",
    "                        one_hot=False, last_tok_pos=-1, desc=f'Training dataset', classification=clssification)\n",
    "    \n",
    "    # converting datasets to a list of vectors \n",
    "    layers = model.config.num_hidden_layers\n",
    "    X_train = {idx:[] for idx in [5, 15, 25]}\n",
    "    for sample in range(len(train_dataset)):\n",
    "        for idx in [5, 15, 25]:\n",
    "            X_train[idx].append(train_dataset[sample]['hidden_states'][idx])\n",
    "    y_train = [item[label_idf.strip('_')] for item in train_dataset]\n",
    "    # print(X_train[1], y_train[1])\n",
    "    # break \n",
    "    \n",
    "    param_grid = {\n",
    "    'classifier__C': [0.1, 1, 10],  # Regularization strengths\n",
    "    'classifier__penalty': ['l1', 'l2', 'elasticnet'],  # Regularization types\n",
    "    'classifier__solver': ['liblinear', 'saga', 'lbfgs']  # Solvers compatible with different penalties\n",
    "    }\n",
    "\n",
    "    \n",
    "    \n",
    "    pipelines = {}\n",
    "    for layer in tqdm([5, 15, 25], total=3, desc=f'Training Probs for {[5, 15, 25]} ... ', leave=False):\n",
    "        # best_pipeline, validation_metrics = train_and_tune_logistic_regression(X_train[layer], y_train, X_valid[layer], y_valid, {})\n",
    "        best_pipeline = fit_logistic_regression_with_pca(X_train[layer], y_train)\n",
    "        pipelines[layer] = best_pipeline\n",
    "\n",
    "    # for test_length in range(test_min_length, test_max_length):\n",
    "    # cmd = f'python ./src/CaSiNo.py 4 3'\n",
    "    # !{cmd}\n",
    "    \n",
    "    test_dataset = TextDataset(directory[1], tokenizer, model, label_idf=label_idf, label_to_id=label_to_id,\n",
    "                convert_to_llama2_format=True, additional_datas=[], \n",
    "                new_format=new_prompt_format,\n",
    "                residual_stream=residual_stream, if_augmented=augmented, \n",
    "                remove_last_ai_response=remove_last_ai_response, include_inst=include_inst, k=1,\n",
    "                one_hot=False, last_tok_pos=-1, desc=f'Test dataset', classification=clssification)\n",
    "\n",
    "    X_test = {idx:[] for idx in [5, 15, 25]}\n",
    "    for sample in range(len(test_dataset)):\n",
    "        for idx in [5, 15, 25]:\n",
    "            X_test[idx].append(test_dataset[sample]['hidden_states'][idx])\n",
    "    y_test = [item[label_idf.strip('_')] for item in test_dataset]\n",
    "\n",
    "    accuracy_array = {}\n",
    "    for layer in tqdm([5, 15, 25], total=3, desc=f'Testing Probs for {[5, 15, 25]} ... ', leave=False):\n",
    "        pred = pipelines[layer].predict(X_test[layer])\n",
    "        # temp_acc = accuracy_score(y_test, pred)\n",
    "        # print(f'Label {directory[0].split(\"_\")[0].split(\"/\")[-1]}, Train: {train_length}, Test: {test_length}, Accuracy: {temp_acc}')\n",
    "        accuracy_array[layer] = {'pred':pred, 'act':y_test}\n",
    "        \n",
    "    accuracy_dict[f'{directory[0].split(\"_\")[0].split(\"/\")[-1]}'] = accuracy_array"
   ]
  },
  {
   "cell_type": "code",
   "execution_count": 8,
   "metadata": {
    "execution": {
     "iopub.execute_input": "2025-02-11T13:27:46.081097Z",
     "iopub.status.busy": "2025-02-11T13:27:46.080719Z",
     "iopub.status.idle": "2025-02-11T13:27:46.085873Z",
     "shell.execute_reply": "2025-02-11T13:27:46.085455Z",
     "shell.execute_reply.started": "2025-02-11T13:27:46.081080Z"
    }
   },
   "outputs": [
    {
     "name": "stdout",
     "output_type": "stream",
     "text": [
      "The accuracy for CaSiNo layer 5:\tBoth: 0.03\tUser: 0.19\tAssistant: 0.24\n",
      "The accuracy for CaSiNo layer 15:\tBoth: 0.0\tUser: 0.13\tAssistant: 0.15\n",
      "The accuracy for CaSiNo layer 25:\tBoth: 0.04\tUser: 0.15\tAssistant: 0.22\n"
     ]
    }
   ],
   "source": [
    "for layer in [5, 15, 25]: \n",
    "    desirem1_act = accuracy_dict['desirem1'][layer]['act']\n",
    "    desirem1_pred = accuracy_dict['desirem1'][layer]['pred']\n",
    "\n",
    "    desirem2_act = accuracy_dict['desirem2'][layer]['act']\n",
    "    desirem2_pred = accuracy_dict['desirem2'][layer]['pred']\n",
    "\n",
    "    beliefm1_act = accuracy_dict['beliefm1'][layer]['act']\n",
    "    beliefm1_pred = accuracy_dict['beliefm1'][layer]['pred']\n",
    "\n",
    "    beliefm2_act = accuracy_dict['beliefm2'][layer]['act']\n",
    "    beliefm2_pred = accuracy_dict['beliefm2'][layer]['pred']\n",
    "    a1, a2, both = 0, 0, 0\n",
    "    for idx in range(len(desirem1_act)):\n",
    "        if (desirem1_act[idx]==desirem1_pred[idx]):\n",
    "            a1+=1\n",
    "        if (desirem2_act[idx]==desirem2_pred[idx]):\n",
    "            a2+=1\n",
    "        if (desirem1_act[idx]==desirem1_pred[idx]) and (desirem2_act[idx]==desirem2_pred[idx]):\n",
    "            both+=1\n",
    "    print(f\"The accuracy for CaSiNo layer {layer}:\\tBoth: {round(both/len(desirem1_act), 2)}\\tUser: {round(a1/len(desirem1_act), 2)}\\tAssistant: {round(a2/len(desirem1_act), 2)}\")\n",
    "\n",
    "\n",
    "\n",
    "\n",
    "\n"
   ]
  },
  {
   "cell_type": "code",
   "execution_count": null,
   "metadata": {},
   "outputs": [],
   "source": []
  }
 ],
 "metadata": {
  "kernelspec": {
   "display_name": "cs_exp",
   "language": "python",
   "name": "python3"
  },
  "language_info": {
   "codemirror_mode": {
    "name": "ipython",
    "version": 3
   },
   "file_extension": ".py",
   "mimetype": "text/x-python",
   "name": "python",
   "nbconvert_exporter": "python",
   "pygments_lexer": "ipython3",
   "version": "3.10.15"
  }
 },
 "nbformat": 4,
 "nbformat_minor": 4
}
