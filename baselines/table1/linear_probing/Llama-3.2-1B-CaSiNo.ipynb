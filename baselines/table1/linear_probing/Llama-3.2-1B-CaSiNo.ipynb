{
 "cells": [
  {
   "cell_type": "code",
   "execution_count": 1,
   "metadata": {},
   "outputs": [],
   "source": [
    "import sys\n",
    "import os\n",
    "import openai\n",
    "from tqdm import tqdm\n",
    "sys.path.append('./src')\n",
    "os.environ[\"TOKENIZERS_PARALLELISM\"] = \"false\"\n",
    "os.environ['HF_HOME'] = '/srv/scratch/CRUISE/Mehdi/HF/'"
   ]
  },
  {
   "cell_type": "code",
   "execution_count": 2,
   "metadata": {},
   "outputs": [],
   "source": [
    "from transformers import AutoTokenizer, AutoModelForCausalLM\n",
    "import torch\n",
    "from tqdm.auto import tqdm\n",
    "\n",
    "from dataset import TextDataset \n",
    "\n",
    "import time\n",
    "\n",
    "from CaSiNo import *\n",
    "from common import *\n",
    "\n",
    "tic, toc = (time.time, time.time)"
   ]
  },
  {
   "cell_type": "code",
   "execution_count": 3,
   "metadata": {},
   "outputs": [],
   "source": [
    "tokenizer = AutoTokenizer.from_pretrained(\"meta-llama/Llama-3.2-1B-Instruct\")\n",
    "model = AutoModelForCausalLM.from_pretrained(\"meta-llama/Llama-3.2-1B-Instruct\")\n",
    "model.cuda();\n",
    "model.eval();"
   ]
  },
  {
   "cell_type": "code",
   "execution_count": 4,
   "metadata": {},
   "outputs": [],
   "source": [
    "label_to_id = {\n",
    "    \"label1\": 0,\n",
    "    \"label2\": 1,\n",
    "    \"label3\": 2,\n",
    "    \"label4\": 3,\n",
    "    \"label5\": 4,\n",
    "    \"label6\": 5,\n",
    "}\n",
    "\n",
    "\n",
    "accuracy_dict = {}\n",
    "\n",
    "directories = [\n",
    "    [\n",
    "        \"dataset/desirem1_train/\", \n",
    "        \"dataset/desirem1_test/\",\n",
    "    ],\n",
    "    [\n",
    "        \"dataset/desirem2_train/\", \n",
    "        \"dataset/desirem2_test/\",\n",
    "    ],\n",
    "    [\n",
    "        \"dataset/beliefm1_train/\", \n",
    "        \"dataset/beliefm1_test/\",\n",
    "    ],\n",
    "    [\n",
    "        \"dataset/beliefm2_train/\", \n",
    "        \"dataset/beliefm2_test/\",\n",
    "    ],\n",
    "]\n",
    "\n",
    "\n",
    "label_idfs = [\"_desirem1_\", \"_desirem2_\", \"_beliefm1_\", \"_beliefm2_\"]\n",
    "\n",
    "\n",
    "label_to_ids = [label_to_id, label_to_id, label_to_id, label_to_id]\n",
    "\n",
    "train_min_length, train_max_length = 1, 7\n",
    "test_min_length, test_max_length = 1, 7\n",
    "\n",
    "new_prompt_format=True\n",
    "residual_stream=True\n",
    "uncertainty = False\n",
    "logistic = True\n",
    "augmented = False\n",
    "remove_last_ai_response = True\n",
    "include_inst = True\n",
    "one_hot = True\n",
    "clssification = True\n"
   ]
  },
  {
   "cell_type": "code",
   "execution_count": 5,
   "metadata": {},
   "outputs": [],
   "source": [
    "cmd = f'python ./src/CaSiNo.py 5 5 --flag'\n",
    "!{cmd}"
   ]
  },
  {
   "cell_type": "code",
   "execution_count": 6,
   "metadata": {},
   "outputs": [
    {
     "data": {
      "application/vnd.jupyter.widget-view+json": {
       "model_id": "e4067d4fee9441e4b96f0c5652ac0a2c",
       "version_major": 2,
       "version_minor": 0
      },
      "text/plain": [
       "Training dataset:   0%|          | 0/1012 [00:00<?, ?it/s]"
      ]
     },
     "metadata": {},
     "output_type": "display_data"
    },
    {
     "data": {
      "application/vnd.jupyter.widget-view+json": {
       "model_id": "b120fff72d0849d18e40f54e5f56793b",
       "version_major": 2,
       "version_minor": 0
      },
      "text/plain": [
       "Training Probs for [3, 8, 14] ... :   0%|          | 0/3 [00:00<?, ?it/s]"
      ]
     },
     "metadata": {},
     "output_type": "display_data"
    },
    {
     "data": {
      "application/vnd.jupyter.widget-view+json": {
       "model_id": "8084e0a4afc04fcab020b79ef36fa753",
       "version_major": 2,
       "version_minor": 0
      },
      "text/plain": [
       "Test dataset:   0%|          | 0/117 [00:00<?, ?it/s]"
      ]
     },
     "metadata": {},
     "output_type": "display_data"
    },
    {
     "data": {
      "application/vnd.jupyter.widget-view+json": {
       "model_id": "82e45f609d504eb5bdb93cef1eb12f2f",
       "version_major": 2,
       "version_minor": 0
      },
      "text/plain": [
       "Testing Probs for [3, 8, 14] ... :   0%|          | 0/3 [00:00<?, ?it/s]"
      ]
     },
     "metadata": {},
     "output_type": "display_data"
    },
    {
     "data": {
      "application/vnd.jupyter.widget-view+json": {
       "model_id": "be069e4f175e44a1a8f03362adfdeb29",
       "version_major": 2,
       "version_minor": 0
      },
      "text/plain": [
       "Training dataset:   0%|          | 0/1012 [00:00<?, ?it/s]"
      ]
     },
     "metadata": {},
     "output_type": "display_data"
    },
    {
     "data": {
      "application/vnd.jupyter.widget-view+json": {
       "model_id": "d365c323010743099af4e17586809e04",
       "version_major": 2,
       "version_minor": 0
      },
      "text/plain": [
       "Training Probs for [3, 8, 14] ... :   0%|          | 0/3 [00:00<?, ?it/s]"
      ]
     },
     "metadata": {},
     "output_type": "display_data"
    },
    {
     "data": {
      "application/vnd.jupyter.widget-view+json": {
       "model_id": "1ff01e5c5ed846a4aceba583b5476200",
       "version_major": 2,
       "version_minor": 0
      },
      "text/plain": [
       "Test dataset:   0%|          | 0/117 [00:00<?, ?it/s]"
      ]
     },
     "metadata": {},
     "output_type": "display_data"
    },
    {
     "data": {
      "application/vnd.jupyter.widget-view+json": {
       "model_id": "8ffbe4a65b28406bb09ea29448686aba",
       "version_major": 2,
       "version_minor": 0
      },
      "text/plain": [
       "Testing Probs for [3, 8, 14] ... :   0%|          | 0/3 [00:00<?, ?it/s]"
      ]
     },
     "metadata": {},
     "output_type": "display_data"
    },
    {
     "data": {
      "application/vnd.jupyter.widget-view+json": {
       "model_id": "7ad7bd156107432b98bb09c054b743d9",
       "version_major": 2,
       "version_minor": 0
      },
      "text/plain": [
       "Training dataset:   0%|          | 0/1012 [00:00<?, ?it/s]"
      ]
     },
     "metadata": {},
     "output_type": "display_data"
    },
    {
     "data": {
      "application/vnd.jupyter.widget-view+json": {
       "model_id": "576dc56c2abc480f8a6b7fe9dab4760e",
       "version_major": 2,
       "version_minor": 0
      },
      "text/plain": [
       "Training Probs for [3, 8, 14] ... :   0%|          | 0/3 [00:00<?, ?it/s]"
      ]
     },
     "metadata": {},
     "output_type": "display_data"
    },
    {
     "data": {
      "application/vnd.jupyter.widget-view+json": {
       "model_id": "00f45ed114ef4545b55c3dbf8da7a3b0",
       "version_major": 2,
       "version_minor": 0
      },
      "text/plain": [
       "Test dataset:   0%|          | 0/117 [00:00<?, ?it/s]"
      ]
     },
     "metadata": {},
     "output_type": "display_data"
    },
    {
     "data": {
      "application/vnd.jupyter.widget-view+json": {
       "model_id": "9f122cdd9d1d45cbb0bad5ef128c1952",
       "version_major": 2,
       "version_minor": 0
      },
      "text/plain": [
       "Testing Probs for [3, 8, 14] ... :   0%|          | 0/3 [00:00<?, ?it/s]"
      ]
     },
     "metadata": {},
     "output_type": "display_data"
    },
    {
     "data": {
      "application/vnd.jupyter.widget-view+json": {
       "model_id": "9659081621e44c21b26d86a740b748f8",
       "version_major": 2,
       "version_minor": 0
      },
      "text/plain": [
       "Training dataset:   0%|          | 0/1012 [00:00<?, ?it/s]"
      ]
     },
     "metadata": {},
     "output_type": "display_data"
    },
    {
     "data": {
      "application/vnd.jupyter.widget-view+json": {
       "model_id": "c143c5afdec843f3bbf8248d43fac3da",
       "version_major": 2,
       "version_minor": 0
      },
      "text/plain": [
       "Training Probs for [3, 8, 14] ... :   0%|          | 0/3 [00:00<?, ?it/s]"
      ]
     },
     "metadata": {},
     "output_type": "display_data"
    },
    {
     "data": {
      "application/vnd.jupyter.widget-view+json": {
       "model_id": "7399cc5db27f4bf885139b41a2c3b48d",
       "version_major": 2,
       "version_minor": 0
      },
      "text/plain": [
       "Test dataset:   0%|          | 0/117 [00:00<?, ?it/s]"
      ]
     },
     "metadata": {},
     "output_type": "display_data"
    },
    {
     "data": {
      "application/vnd.jupyter.widget-view+json": {
       "model_id": "2e8f09926d0a454d8392a266ee3a61f0",
       "version_major": 2,
       "version_minor": 0
      },
      "text/plain": [
       "Testing Probs for [3, 8, 14] ... :   0%|          | 0/3 [00:00<?, ?it/s]"
      ]
     },
     "metadata": {},
     "output_type": "display_data"
    }
   ],
   "source": [
    "for directory, label_idf, label_to_id in zip(directories, label_idfs, label_to_ids):\n",
    "    torch.cuda.empty_cache()\n",
    "    # creating training and validation datasets\n",
    "    train_dataset = TextDataset(directory[0], tokenizer, model, label_idf=label_idf, label_to_id=label_to_id,\n",
    "                        convert_to_llama2_format=True, additional_datas=[], \n",
    "                        new_format=new_prompt_format,\n",
    "                        residual_stream=residual_stream, if_augmented=augmented, \n",
    "                        remove_last_ai_response=remove_last_ai_response, include_inst=include_inst, k=1,\n",
    "                        one_hot=False, last_tok_pos=-1, desc=f'Training dataset', classification=clssification)\n",
    "    \n",
    "    # converting datasets to a list of vectors \n",
    "    layers = model.config.num_hidden_layers\n",
    "    X_train = {idx:[] for idx in [3, 8, 14]}\n",
    "    for sample in range(len(train_dataset)):\n",
    "        for idx in [3, 8, 14]:\n",
    "            X_train[idx].append(train_dataset[sample]['hidden_states'][idx])\n",
    "    y_train = [item[label_idf.strip('_')] for item in train_dataset]\n",
    "    # print(X_train[1], y_train[1])\n",
    "    # break \n",
    "    \n",
    "    param_grid = {\n",
    "    'classifier__C': [0.1, 1, 10],  # Regularization strengths\n",
    "    'classifier__penalty': ['l1', 'l2', 'elasticnet'],  # Regularization types\n",
    "    'classifier__solver': ['liblinear', 'saga', 'lbfgs']  # Solvers compatible with different penalties\n",
    "    }\n",
    "    \n",
    "    \n",
    "    pipelines = {}\n",
    "    for layer in tqdm([3, 8, 14], total=3, desc=f'Training Probs for {[3, 8, 14]} ... ', leave=False):\n",
    "        # best_pipeline, validation_metrics = train_and_tune_logistic_regression(X_train[layer], y_train, X_valid[layer], y_valid, {})\n",
    "        best_pipeline = fit_logistic_regression_with_pca(X_train[layer], y_train)\n",
    "        pipelines[layer] = best_pipeline\n",
    "\n",
    "    # for test_length in range(test_min_length, test_max_length):\n",
    "    # cmd = f'python ./src/CaSiNo.py 4 3'\n",
    "    # !{cmd}\n",
    "    \n",
    "    test_dataset = TextDataset(directory[1], tokenizer, model, label_idf=label_idf, label_to_id=label_to_id,\n",
    "                convert_to_llama2_format=True, additional_datas=[], \n",
    "                new_format=new_prompt_format,\n",
    "                residual_stream=residual_stream, if_augmented=augmented, \n",
    "                remove_last_ai_response=remove_last_ai_response, include_inst=include_inst, k=1,\n",
    "                one_hot=False, last_tok_pos=-1, desc=f'Test dataset', classification=clssification)\n",
    "\n",
    "    X_test = {idx:[] for idx in [3, 8, 14]}\n",
    "    for sample in range(len(test_dataset)):\n",
    "        for idx in [3, 8, 14]:\n",
    "            X_test[idx].append(test_dataset[sample]['hidden_states'][idx])\n",
    "    y_test = [item[label_idf.strip('_')] for item in test_dataset]\n",
    "\n",
    "    accuracy_array = {}\n",
    "    for layer in tqdm([3, 8, 14], total=3, desc=f'Testing Probs for {[3, 8, 14]} ... ', leave=False):\n",
    "        pred = pipelines[layer].predict(X_test[layer])\n",
    "        # temp_acc = accuracy_score(y_test, pred)\n",
    "        # print(f'Label {directory[0].split(\"_\")[0].split(\"/\")[-1]}, Train: {train_length}, Test: {test_length}, Accuracy: {temp_acc}')\n",
    "        accuracy_array[layer] = {'pred':pred, 'act':y_test}\n",
    "        \n",
    "    accuracy_dict[f'{directory[0].split(\"_\")[0].split(\"/\")[-1]}'] = accuracy_array"
   ]
  },
  {
   "cell_type": "code",
   "execution_count": 7,
   "metadata": {},
   "outputs": [
    {
     "data": {
      "text/plain": [
       "117"
      ]
     },
     "execution_count": 7,
     "metadata": {},
     "output_type": "execute_result"
    }
   ],
   "source": [
    "len(accuracy_dict['desirem1'][3]['pred'])\n"
   ]
  },
  {
   "cell_type": "code",
   "execution_count": 9,
   "metadata": {},
   "outputs": [
    {
     "name": "stdout",
     "output_type": "stream",
     "text": [
      "The accuracy for CaSiNo layer 3:\tBoth: 0.03\tUser: 0.11\tAssistant: 0.17\n",
      "The accuracy for CaSiNo layer 8:\tBoth: 0.02\tUser: 0.16\tAssistant: 0.13\n",
      "The accuracy for CaSiNo layer 14:\tBoth: 0.03\tUser: 0.16\tAssistant: 0.2\n"
     ]
    }
   ],
   "source": [
    "for layer in [3, 8, 14]: \n",
    "    desirem1_act = accuracy_dict['desirem1'][layer]['act']\n",
    "    desirem1_pred = accuracy_dict['desirem1'][layer]['pred']\n",
    "\n",
    "    desirem2_act = accuracy_dict['desirem2'][layer]['act']\n",
    "    desirem2_pred = accuracy_dict['desirem2'][layer]['pred']\n",
    "\n",
    "    beliefm1_act = accuracy_dict['beliefm1'][layer]['act']\n",
    "    beliefm1_pred = accuracy_dict['beliefm1'][layer]['pred']\n",
    "\n",
    "    beliefm2_act = accuracy_dict['beliefm2'][layer]['act']\n",
    "    beliefm2_pred = accuracy_dict['beliefm2'][layer]['pred']\n",
    "    a1, a2, both = 0, 0, 0\n",
    "    for idx in range(len(desirem1_act)):\n",
    "        if (desirem1_act[idx]==desirem1_pred[idx]):\n",
    "            a1+=1\n",
    "        if (desirem2_act[idx]==desirem2_pred[idx]):\n",
    "            a2+=1\n",
    "        if (desirem1_act[idx]==desirem1_pred[idx]) and (desirem2_act[idx]==desirem2_pred[idx]):\n",
    "            both+=1\n",
    "    print(f\"The accuracy for CaSiNo layer {layer}:\\tBoth: {round(both/len(desirem1_act), 2)}\\tUser: {round(a1/len(desirem1_act), 2)}\\tAssistant: {round(a2/len(desirem1_act), 2)}\")\n",
    "\n",
    "\n",
    "\n",
    "\n",
    "\n"
   ]
  },
  {
   "cell_type": "code",
   "execution_count": null,
   "metadata": {},
   "outputs": [],
   "source": []
  }
 ],
 "metadata": {
  "kernelspec": {
   "display_name": "cs_exp",
   "language": "python",
   "name": "python3"
  },
  "language_info": {
   "codemirror_mode": {
    "name": "ipython",
    "version": 3
   },
   "file_extension": ".py",
   "mimetype": "text/x-python",
   "name": "python",
   "nbconvert_exporter": "python",
   "pygments_lexer": "ipython3",
   "version": "3.10.15"
  }
 },
 "nbformat": 4,
 "nbformat_minor": 2
}
