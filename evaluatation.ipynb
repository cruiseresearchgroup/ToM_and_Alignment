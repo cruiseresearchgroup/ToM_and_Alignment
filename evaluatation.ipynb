{
 "cells": [
  {
   "cell_type": "code",
   "execution_count": 2,
   "metadata": {},
   "outputs": [],
   "source": [
    "import json\n",
    "from sklearn.metrics import r2_score\n",
    "from sklearn.metrics import f1_score\n",
    "from sklearn.preprocessing import MultiLabelBinarizer\n"
   ]
  },
  {
   "cell_type": "code",
   "execution_count": 10,
   "metadata": {},
   "outputs": [
    {
     "name": "stdout",
     "output_type": "stream",
     "text": [
      "Accuracy for predicting priorities:\n",
      "Agent1: 0.48 percents\n",
      "Agent2: 0.54 percents\n",
      "Both Agents: 0.25 percents\n"
     ]
    }
   ],
   "source": [
    "with open('controls/CaSiNo.jsonl', 'r') as fin:\n",
    "    CaSiNo = json.load(fin)\n",
    "test_set_size = len(CaSiNo)\n",
    "agent1, agent2, both = 0, 0, 0\n",
    "for item in CaSiNo:\n",
    "    if item['response'].split('.')[0] == item['ground_truth'].split('.')[0]:\n",
    "        agent1+=1\n",
    "    if item['response'].split('.')[1] == item['ground_truth'].split('.')[1]:\n",
    "        agent2+=1\n",
    "    if item['response']==item['ground_truth']:\n",
    "        both+=1\n",
    "print(f'Accuracy for predicting priorities:\\nAgent1: {agent1/test_set_size} percents\\nAgent2: {agent2/test_set_size} percents\\nBoth Agents: {both/test_set_size} percents')"
   ]
  },
  {
   "cell_type": "code",
   "execution_count": 16,
   "metadata": {},
   "outputs": [
    {
     "name": "stdout",
     "output_type": "stream",
     "text": [
      "R^2 Score for predicted buyer's price is 0.9162770767996156\n",
      "R^2 Score for predicted seller's price is 0.9470176479894197\n"
     ]
    }
   ],
   "source": [
    "with open('controls/CRAIGSLISTBARGAIN.jsonl', 'r') as fin:\n",
    "    CRAIGSLISTBARGAIN = json.load(fin)\n",
    "buyer_price_actual, buyer_price_predicted, seller_price_actual, seller_price_predicted = [], [], [], []\n",
    "for item in CRAIGSLISTBARGAIN:\n",
    "    buyer_price_actual.append(int(item['ground_truth'].split(' ')[-2].replace(',', '')))\n",
    "    buyer_price_predicted.append(int(item['response'].split(' ')[-2].replace(',', '')))\n",
    "    seller_price_actual.append(int(item['ground_truth'].split(' ')[7].strip(',').replace(',', '')))\n",
    "    seller_price_predicted.append(int(item['response'].split(' ')[7].strip(',').replace(',', '')))\n",
    "print(f'R^2 Score for predicted buyer\\'s price is {r2_score(buyer_price_actual, buyer_price_predicted)}\\nR^2 Score for predicted seller\\'s price is {r2_score(seller_price_actual, seller_price_predicted)}')"
   ]
  },
  {
   "cell_type": "code",
   "execution_count": 3,
   "metadata": {},
   "outputs": [
    {
     "name": "stdout",
     "output_type": "stream",
     "text": [
      "F1 Score (Micro): 0.6426656453466105\n",
      "F1 Score (Macro): 0.4827246681902486\n",
      "0.3558368495077356\n"
     ]
    }
   ],
   "source": [
    "with open('controls/NegotiationToM.jsonl', 'r') as fin:\n",
    "    NegotiationToM = json.load(fin)\n",
    "desire_actual, desire_predicted, belief_actual, belief_predicted, a1_intent_actual, \\\n",
    "intent_actual, intent_predicted, \\\n",
    "a1_intent_predicted, a2_intent_actual, a2_intent_predicted = [], [], [], [], [], [], [], [], [], []\n",
    "\n",
    "for item in NegotiationToM:\n",
    "\n",
    "    temp = item['ground_truth'].split('Desire ')\n",
    "    temp = [label.split(':')[1].split(',')[0].strip() for label in temp[1:]]\n",
    "    desire_actual.append(temp)\n",
    "    temp = item['response'].split('Desire ')\n",
    "    try:\n",
    "        temp = [label.split(':')[1].split(',')[0].strip() for label in temp[1:]]\n",
    "    except:\n",
    "        temp = ['_' for i in range(6)]\n",
    "    desire_predicted.append(temp)\n",
    "    \n",
    "    temp = item['ground_truth'].split('Belief ')\n",
    "    temp = [label.split(':')[1].replace('.', ',').split(',')[0].strip() for label in temp[1:]]\n",
    "    belief_actual.append(temp)\n",
    "    temp = item['response'].split('Belief ')\n",
    "    try:\n",
    "        temp = [label.split(':')[1].replace('.', ',').split(',')[0].strip() for label in temp[1:]]\n",
    "    except:\n",
    "        temp = ['_' for i in range(6)]\n",
    "    if len(temp)!=6:\n",
    "        temp = ['_' for i in range(6)]\n",
    "    belief_predicted.append(temp)\n",
    "    \n",
    "    a1_intent_actual.append(item['ground_truth'].split('[')[1].split(']')[0].split(','))\n",
    "    try:\n",
    "        a1_intent_predicted.append(item['response'].split('[')[1].split(']')[0].split(','))\n",
    "    except:\n",
    "        a1_intent_predicted.append([])\n",
    "    if len(temp)!=6:\n",
    "        temp = ['_' for i in range(6)]\n",
    "    \n",
    "    a2_intent_actual.append(item['ground_truth'].split('[')[2].split(']')[0].split(','))\n",
    "    try:\n",
    "        a2_intent_predicted.append(item['response'].split('[')[2].split(']')[0].split(','))\n",
    "    except:\n",
    "        a2_intent_predicted.append([])\n",
    "\n",
    "intent_actual = [a1+a2 for a1, a2 in zip(a1_intent_actual, a2_intent_actual)]\n",
    "intent_predicted = [a1+a2 for a1, a2 in zip(a1_intent_predicted, a2_intent_predicted)]\n",
    "\n",
    "# print(a1_intent_actual)\n",
    "# print(a1_intent_predicted)\n",
    "# print(a2_intent_actual)\n",
    "# print(a2_intent_predicted)\n",
    "# print(desire_actual)\n",
    "# print(desire_predicted)\n",
    "# print(belief_actual)\n",
    "# print(belief_predicted)\n",
    "mlb = MultiLabelBinarizer()\n",
    "y_true_binary = mlb.fit_transform(intent_actual)\n",
    "y_pred_binary = mlb.transform(intent_predicted)\n",
    "\n",
    "# Calculate F1 score\n",
    "f1_micro = f1_score(y_true_binary, y_pred_binary, average='micro')\n",
    "f1_macro = f1_score(y_true_binary, y_pred_binary, average='macro')\n",
    "\n",
    "print(f\"F1 Score (Micro): {f1_micro}\")\n",
    "print(f\"F1 Score (Macro): {f1_macro}\")\n",
    "\n",
    "test_set_size = len(NegotiationToM)\n",
    "desire_accuracy = 0\n",
    "for a, p in zip(desire_predicted, desire_actual):\n",
    "    if a==p:\n",
    "        desire_accuracy+=1\n",
    "print(desire_accuracy/test_set_size)"
   ]
  },
  {
   "cell_type": "code",
   "execution_count": 34,
   "metadata": {},
   "outputs": [
    {
     "name": "stdout",
     "output_type": "stream",
     "text": [
      "The intent of the Agent 1 is [Build-Rapport,Describe-Need] and the intent of the Agent 2 is [Build-Rapport] Regarding the Agent 1, Desire High: Food, Desire Medium: Not Given, Desire Low: Not Given,  Belief High: Not Given, Belief Medium: Not Given, Belief Low: Not Given. Regarding the Agent 2, Desire High: Not Given, Desire Medium: Not Given, Desire Low: Not Given,  Belief High: Food, Belief Medium: Not Given, Belief Low: Not Given.\n",
      "The intent of the Agent 1 is [Build-Rapport,Describe-Need] and the intent of the Agent 2 is [Describe-Need] Regarding the Agent 1, Desire High: Not Given, Desire Medium: Not Given, Desire Low: Firewood,  Belief High: Food, Belief Medium: Not Given, Belief Low: Not Given. Regarding the Agent 2, Desire High: Food, Desire Medium: Not Given, Desire Low: Not Given,\n"
     ]
    }
   ],
   "source": [
    "from sklearn.metrics import f1_score\n",
    "f1_score(['Not Given', 'Not Given', 'Not Given', 'Not Given', 'Not Given', 'Not Given'], )"
   ]
  },
  {
   "cell_type": "code",
   "execution_count": 27,
   "metadata": {},
   "outputs": [
    {
     "name": "stdout",
     "output_type": "stream",
     "text": [
      "The intent of the Agent 1 is [Build-Rapport] and the intent of the Agent 2 is [Build-Rapport] Regarding the Agent 1, Desire High: Not Given, Desire Medium: Not Given, Desire Low: Not Given,  \n",
      "High: Not Given, \n",
      "Medium: Not Given, \n",
      "Low: Not Given. Regarding the Agent 2, Desire High: Not Given, Desire Medium: Not Given, Desire Low: Not Given,\n"
     ]
    }
   ],
   "source": [
    "for item in NegotiationToM[0]['response'].split('Belief '):\n",
    "    print(item)"
   ]
  },
  {
   "cell_type": "code",
   "execution_count": 15,
   "metadata": {},
   "outputs": [
    {
     "name": "stdout",
     "output_type": "stream",
     "text": [
      "The intent of the Agent 1 is [Build-Rapport] and the intent of the Agent 2 is [Build-Rapport] Regarding the Agent 1, \n",
      "High: Not Given, \n",
      "Medium: Not Given, \n",
      "Low: Not Given,  Belief High: Not Given, Belief Medium: Not Given, Belief Low: Not Given. Regarding the Agent 2, \n",
      "High: Not Given, \n",
      "Medium: Not Given, \n",
      "Low: Not Given,\n"
     ]
    }
   ],
   "source": [
    "for item in NegotiationToM[0]['response'].split('Desire '):\n",
    "    print(item)"
   ]
  },
  {
   "cell_type": "code",
   "execution_count": 28,
   "metadata": {},
   "outputs": [],
   "source": [
    "def get_NegotiationToM_text(train_config, tokenizer, train=True):\n",
    "    data_path = train_config.train_qa if train else train_config.eval_qa\n",
    "    with open(data_path, 'rb') as fin:\n",
    "        data = json.load(fin)\n",
    "    print(data[0])\n",
    "    read_prompts, QAs = [], []\n",
    "    for item in data:\n",
    "        temp = []\n",
    "        for uttrance in item['dialogue']:\n",
    "            if uttrance.split(': ')[0] == 'agent_2':\n",
    "                temp.append({\"role\": \"Agent 2\", \"content\": uttrance.split(': ')[1]})\n",
    "            elif uttrance.split(': ')[0] == 'agent_1':\n",
    "                temp.append({\"role\": \"Agent 1\", \"content\": uttrance.split(': ')[1]})\n",
    "        read_prompts.append(temp)\n",
    "        \n",
    "        question = \"what is the intent of each agent for the last utterances? What are the beliefs and desires of each agent?\"\n",
    "        agent1_intent = item['utterance1_intent'] if item['utterance1_agent']=='agent_1' else item['utterance2_intent']\n",
    "        agent2_intent = item['utterance1_intent'] if item['utterance1_agent']=='agent_2' else item['utterance2_intent']\n",
    "        \n",
    "        answer = f\"The intent of the Agent 1 is [{agent1_intent}] and the intent of the Agent 2 is [{agent2_intent}]\"\n",
    "        answer += f' Regarding the Agent 1, Desire High: {item[\"agent1_desire_high\"]}, Desire Medium: {item[\"agent1_desire_medium\"]}, Desire Low: {item[\"agent1_desire_low\"]},  Belief High: {item[\"agent1_belief_high\"]}, Belief Medium: {item[\"agent1_belief_medium\"]}, Belief Low: {item[\"agent1_belief_low\"]}.' \n",
    "        answer += f' Regarding the Agent 2, Desire High: {item[\"agent2_desire_high\"]}, Desire Medium: {item[\"agent2_desire_medium\"]}, Desire Low: {item[\"agent2_desire_low\"]},  Belief High: {item[\"agent2_belief_high\"]}, Belief Medium: {item[\"agent2_belief_medium\"]}, Belief Low: {item[\"agent2_belief_low\"]}.' \n",
    "        QAs.append([\n",
    "                {\"role\": \"user\", \"content\": question},\n",
    "                {\"role\": \"assistant\", \"content\": answer}\n",
    "                ])\n",
    "\n",
    "    assert len(QAs)==len(read_prompts)\n",
    "    return read_prompts, QAs\n",
    "    \n"
   ]
  },
  {
   "cell_type": "code",
   "execution_count": 29,
   "metadata": {},
   "outputs": [
    {
     "name": "stdout",
     "output_type": "stream",
     "text": [
      "{'dialogue_id': '2-0', 'dialogue': ['agent_2: Hey there!', 'agent_1: Hi! How are you?! You excited for your camping trip??! I sure am ready to go on mine!'], 'agent1_desire': {'Medium': 'Food', 'High': 'Water', 'Low': 'Firewood'}, 'agent2_desire': {'Low': 'Food', 'High': 'Water', 'Medium': 'Firewood'}, 'intents': ['No-Intention', 'Build-Rapport', 'Build-Rapport,Describe-Need,Discover-Preference', 'Build-Rapport,Describe-Need', 'Show-Empathy,Undermine-Requirements', 'Discover-Preference,Promote-Coordination', 'Promote-Coordination', 'Describe-Need,Undermine-Requirements', 'Describe-Need,Promote-Coordination', 'No-Intention'], 'utterance1_intent': 'No-Intention', 'utterance2_intent': 'Build-Rapport', 'utterance1_agent': 'agent_2', 'utterance2_agent': 'agent_1', 'agent1_desire_high': 'Not Given', 'agent1_desire_medium': 'Not Given', 'agent1_desire_low': 'Not Given', 'agent1_belief_high': 'Not Given', 'agent1_belief_medium': 'Not Given', 'agent1_belief_low': 'Not Given', 'agent2_desire_high': 'Not Given', 'agent2_desire_medium': 'Not Given', 'agent2_desire_low': 'Not Given', 'agent2_belief_high': 'Not Given', 'agent2_belief_medium': 'Not Given', 'agent2_belief_low': 'Not Given'}\n"
     ]
    },
    {
     "data": {
      "text/plain": [
       "(1335, 1335)"
      ]
     },
     "execution_count": 29,
     "metadata": {},
     "output_type": "execute_result"
    }
   ],
   "source": [
    "read_prompts, QAs = get_NegotiationToM_text(None, None, None)\n",
    "len(read_prompts), len(QAs)"
   ]
  },
  {
   "cell_type": "code",
   "execution_count": 27,
   "metadata": {},
   "outputs": [
    {
     "data": {
      "text/plain": [
       "([{'role': 'Agent 2', 'content': 'Hey there!'},\n",
       "  {'role': 'Agent 1',\n",
       "   'content': 'Hi! How are you?! You excited for your camping trip??! I sure am ready to go on mine!'}],\n",
       " [{'role': 'user',\n",
       "   'content': 'what is the intent of each agent for the last utterances? What are the beliefs and desires of each agent?'},\n",
       "  {'role': 'assistant',\n",
       "   'content': 'The intent of the Agent 1 is [Build-Rapport] and the intent of the Agent 2 is [No-Intention] Regarding the Agent 1, Desire High: Not Given, Desire Medium: Not Given, Desire Low: Not Given,  Belief High: Not Given, Belief Medium: Not Given, Belief Low: Not Given. Regarding the Agent 2, Desire High: Not Given, Desire Medium: Not Given, Desire Low: Not Given,  Belief High: Not Given, Belief Medium: Not Given, Belief Low: Not Given.'}])"
      ]
     },
     "execution_count": 27,
     "metadata": {},
     "output_type": "execute_result"
    }
   ],
   "source": [
    "read_prompts[0], QAs[0]"
   ]
  },
  {
   "cell_type": "code",
   "execution_count": 8,
   "metadata": {},
   "outputs": [],
   "source": [
    "import re\n",
    "\n",
    "def extract_desires_and_beliefs(text):\n",
    "    \"\"\"\n",
    "    Extract Desire and Belief values for Agent 1 and Agent 2 from the given text.\n",
    "\n",
    "    Parameters:\n",
    "    text (str): Input string containing the intents and values for agents.\n",
    "\n",
    "    Returns:\n",
    "    dict: A dictionary containing extracted values for each agent.\n",
    "    \"\"\"\n",
    "    # Regex pattern to extract Desire and Belief for each agent\n",
    "    pattern = (\n",
    "        r\"Regarding the Agent (?P<agent>\\d), \"\n",
    "        r\"Desire High: (?P<desire_high>[\\w\\s]+), \"\n",
    "        r\"Desire Medium: (?P<desire_medium>[\\w\\s]+), \"\n",
    "        r\"Desire Low: (?P<desire_low>[\\w\\s]+), \"\n",
    "        r\"Belief High: (?P<belief_high>[\\w\\s]+), \"\n",
    "        r\"Belief Medium: (?P<belief_medium>[\\w\\s]+), \"\n",
    "        r\"Belief Low: (?P<belief_low>[\\w\\s]+)\\.\"\n",
    "    )\n",
    "\n",
    "    matches = re.finditer(pattern, text)\n",
    "\n",
    "    # Parse the matches into a dictionary\n",
    "    result = {}\n",
    "    for match in matches:\n",
    "        agent = f\"Agent {match.group('agent')}\"\n",
    "        result[agent] = {\n",
    "            \"Desire\": {\n",
    "                \"High\": match.group('desire_high').strip(),\n",
    "                \"Medium\": match.group('desire_medium').strip(),\n",
    "                \"Low\": match.group('desire_low').strip()\n",
    "            },\n",
    "            \"Belief\": {\n",
    "                \"High\": match.group('belief_high').strip(),\n",
    "                \"Medium\": match.group('belief_medium').strip(),\n",
    "                \"Low\": match.group('belief_low').strip()\n",
    "            }\n",
    "        }\n",
    "\n",
    "    return result\n"
   ]
  },
  {
   "cell_type": "code",
   "execution_count": 9,
   "metadata": {},
   "outputs": [
    {
     "data": {
      "text/plain": [
       "{}"
      ]
     },
     "execution_count": 9,
     "metadata": {},
     "output_type": "execute_result"
    }
   ],
   "source": [
    "extract_desires_and_beliefs(NegotiationToM[0]['ground_truth'])"
   ]
  },
  {
   "cell_type": "code",
   "execution_count": null,
   "metadata": {},
   "outputs": [],
   "source": []
  }
 ],
 "metadata": {
  "kernelspec": {
   "display_name": "latentqa",
   "language": "python",
   "name": "python3"
  },
  "language_info": {
   "codemirror_mode": {
    "name": "ipython",
    "version": 3
   },
   "file_extension": ".py",
   "mimetype": "text/x-python",
   "name": "python",
   "nbconvert_exporter": "python",
   "pygments_lexer": "ipython3",
   "version": "3.11.11"
  }
 },
 "nbformat": 4,
 "nbformat_minor": 2
}
