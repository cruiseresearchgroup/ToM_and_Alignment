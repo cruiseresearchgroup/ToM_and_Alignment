{
 "cells": [
  {
   "cell_type": "code",
   "execution_count": 2,
   "metadata": {},
   "outputs": [],
   "source": [
    "import json\n",
    "from sklearn.metrics import r2_score\n",
    "from sklearn.metrics import f1_score\n",
    "from sklearn.preprocessing import MultiLabelBinarizer\n",
    "from sentence_transformers import SentenceTransformer\n",
    "\n"
   ]
  },
  {
   "cell_type": "code",
   "execution_count": 3,
   "metadata": {},
   "outputs": [
    {
     "name": "stdout",
     "output_type": "stream",
     "text": [
      "Accuracy for predicting priorities:\n",
      "Agent1: 0.47 percents\n",
      "Agent2: 0.56 percents\n",
      "Both Agents: 0.27 percents\n"
     ]
    }
   ],
   "source": [
    "with open('controls/CaSiNo-8B.jsonl', 'r') as fin:\n",
    "    CaSiNo = json.load(fin)\n",
    "test_set_size = len(CaSiNo)\n",
    "agent1, agent2, both = 0, 0, 0\n",
    "for item in CaSiNo:\n",
    "    if item['response'].split('.')[0] == item['ground_truth'].split('.')[0]:\n",
    "        agent1+=1\n",
    "    if item['response'].split('.')[1] == item['ground_truth'].split('.')[1]:\n",
    "        agent2+=1\n",
    "    if item['response']==item['ground_truth']:\n",
    "        both+=1\n",
    "print(f'Accuracy for predicting priorities:\\nAgent1: {agent1/test_set_size} percents\\nAgent2: {agent2/test_set_size} percents\\nBoth Agents: {both/test_set_size} percents')"
   ]
  },
  {
   "cell_type": "code",
   "execution_count": 4,
   "metadata": {},
   "outputs": [
    {
     "name": "stdout",
     "output_type": "stream",
     "text": [
      "Accuracy for predicting priorities:\n",
      "Agent1: 0.62 percents\n",
      "Agent2: 0.58 percents\n",
      "Both Agents: 0.32 percents\n"
     ]
    }
   ],
   "source": [
    "with open('controls/CaSiNo-Shallow-8B.jsonl', 'r') as fin:\n",
    "    CaSiNo = json.load(fin)\n",
    "test_set_size = len(CaSiNo)\n",
    "agent1, agent2, both = 0, 0, 0\n",
    "for item in CaSiNo:\n",
    "    if item['response'].split('.')[0] == item['ground_truth'].split('.')[0]:\n",
    "        agent1+=1\n",
    "    if item['response'].split('.')[1] == item['ground_truth'].split('.')[1]:\n",
    "        agent2+=1\n",
    "    if item['response']==item['ground_truth']:\n",
    "        both+=1\n",
    "print(f'Accuracy for predicting priorities:\\nAgent1: {agent1/test_set_size} percents\\nAgent2: {agent2/test_set_size} percents\\nBoth Agents: {both/test_set_size} percents')"
   ]
  },
  {
   "cell_type": "code",
   "execution_count": 5,
   "metadata": {},
   "outputs": [
    {
     "name": "stdout",
     "output_type": "stream",
     "text": [
      "Accuracy for predicting priorities:\n",
      "Agent1: 0.41 percents\n",
      "Agent2: 0.37 percents\n",
      "Both Agents: 0.16 percents\n"
     ]
    }
   ],
   "source": [
    "with open('controls/CaSiNo-Deep-8B.jsonl', 'r') as fin:\n",
    "    CaSiNo = json.load(fin)\n",
    "test_set_size = len(CaSiNo)\n",
    "agent1, agent2, both = 0, 0, 0\n",
    "for item in CaSiNo:\n",
    "    if item['response'].split('.')[0] == item['ground_truth'].split('.')[0]:\n",
    "        agent1+=1\n",
    "    if item['response'].split('.')[1] == item['ground_truth'].split('.')[1]:\n",
    "        agent2+=1\n",
    "    if item['response']==item['ground_truth']:\n",
    "        both+=1\n",
    "print(f'Accuracy for predicting priorities:\\nAgent1: {agent1/test_set_size} percents\\nAgent2: {agent2/test_set_size} percents\\nBoth Agents: {both/test_set_size} percents')"
   ]
  },
  {
   "cell_type": "code",
   "execution_count": 6,
   "metadata": {},
   "outputs": [],
   "source": [
    "# with open('controls/SpokenBargaining-8B.jsonl', 'r') as fin:\n",
    "#     CRAIGSLISTBARGAIN = json.load(fin)\n",
    "# buyer_price_actual, buyer_price_predicted, seller_price_actual, seller_price_predicted = [], [], [], []\n",
    "# for item in CRAIGSLISTBARGAIN:\n",
    "#     # print(item)\n",
    "#     buyer_price_actual.append(int(item['ground_truth'].split(' ')[-2].replace(',', ''))/1000)\n",
    "#     seller_price_actual.append(int(item['ground_truth'].split(' ')[7].strip(',').replace(',', ''))/1000)\n",
    "#     try:\n",
    "#         buyer_price_predicted.append(int(item['response'].split(' ')[-2].replace(',', '')[:3]))\n",
    "#     except: \n",
    "#         buyer_price_predicted.append(200)\n",
    "#     try:\n",
    "#         seller_price_predicted.append(int(item['response'].split(' ')[7].strip(',').replace(',', '')[:3]))\n",
    "#     except:\n",
    "#         seller_price_predicted.append(200)\n",
    "# print(seller_price_actual[:10], seller_price_predicted[:10], buyer_price_actual[:10], buyer_price_predicted[:10])\n",
    "# print(f'R^2 Score for predicted buyer\\'s price is {r2_score(buyer_price_actual, buyer_price_predicted)}\\nR^2 Score for predicted seller\\'s price is {r2_score(seller_price_actual, seller_price_predicted)}')"
   ]
  },
  {
   "cell_type": "code",
   "execution_count": 17,
   "metadata": {},
   "outputs": [
    {
     "name": "stdout",
     "output_type": "stream",
     "text": [
      "R^2 Score for predicted buyer's price is 0.9162770767996156\n",
      "R^2 Score for predicted seller's price is 0.9470176479894197\n"
     ]
    }
   ],
   "source": [
    "with open('controls/CRAIGSLISTBARGAIN.jsonl', 'r') as fin:\n",
    "    CRAIGSLISTBARGAIN = json.load(fin)\n",
    "buyer_price_actual, buyer_price_predicted, seller_price_actual, seller_price_predicted = [], [], [], []\n",
    "for item in CRAIGSLISTBARGAIN:\n",
    "    buyer_price_actual.append(int(item['ground_truth'].split(' ')[-2].replace(',', '')))\n",
    "    buyer_price_predicted.append(int(item['response'].split(' ')[-2].replace(',', '')))\n",
    "    seller_price_actual.append(int(item['ground_truth'].split(' ')[7].strip(',').replace(',', '')))\n",
    "    seller_price_predicted.append(int(item['response'].split(' ')[7].strip(',').replace(',', '')))\n",
    "print(f'R^2 Score for predicted buyer\\'s price is {r2_score(buyer_price_actual, buyer_price_predicted)}\\nR^2 Score for predicted seller\\'s price is {r2_score(seller_price_actual, seller_price_predicted)}')"
   ]
  },
  {
   "cell_type": "code",
   "execution_count": 18,
   "metadata": {},
   "outputs": [
    {
     "name": "stdout",
     "output_type": "stream",
     "text": [
      "R^2 Score for predicted buyer's price is 0.9200136997154823\n",
      "R^2 Score for predicted seller's price is 0.9357169510997434\n"
     ]
    }
   ],
   "source": [
    "with open('controls/CRAIGSLISTBARGAIN-Deep-08B.jsonl', 'r') as fin:\n",
    "    CRAIGSLISTBARGAIN = json.load(fin)\n",
    "buyer_price_actual, buyer_price_predicted, seller_price_actual, seller_price_predicted = [], [], [], []\n",
    "for item in CRAIGSLISTBARGAIN:\n",
    "    buyer_price_actual.append(int(item['ground_truth'].split(' ')[-2].replace(',', '')))\n",
    "    buyer_price_predicted.append(int(item['response'].split(' ')[-2].replace(',', '')))\n",
    "    seller_price_actual.append(int(item['ground_truth'].split(' ')[7].strip(',').replace(',', '')))\n",
    "    seller_price_predicted.append(int(item['response'].split(' ')[7].strip(',').replace(',', '')))\n",
    "print(f'R^2 Score for predicted buyer\\'s price is {r2_score(buyer_price_actual, buyer_price_predicted)}\\nR^2 Score for predicted seller\\'s price is {r2_score(seller_price_actual, seller_price_predicted)}')"
   ]
  },
  {
   "cell_type": "code",
   "execution_count": 22,
   "metadata": {},
   "outputs": [
    {
     "name": "stdout",
     "output_type": "stream",
     "text": [
      "R^2 Score for predicted buyer's price is 0.9341907920435439\n",
      "R^2 Score for predicted seller's price is 0.9623338551465432\n"
     ]
    }
   ],
   "source": [
    "with open('controls/CRAIGSLISTBARGAIN-Shallow-8B.jsonl', 'r') as fin:\n",
    "    CRAIGSLISTBARGAIN = json.load(fin)\n",
    "buyer_price_actual, buyer_price_predicted, seller_price_actual, seller_price_predicted = [], [], [], []\n",
    "for item in CRAIGSLISTBARGAIN:\n",
    "    buyer_price_actual.append(int(item['ground_truth'].split(' ')[-2].replace(',', '')))\n",
    "    try:\n",
    "        buyer_price_predicted.append(int(item['response'].split(' ')[-2].replace(',', '')))\n",
    "    except: \n",
    "        buyer_price_predicted.append(100)\n",
    "    seller_price_actual.append(int(item['ground_truth'].split(' ')[7].strip(',').replace(',', '')))\n",
    "    seller_price_predicted.append(int(item['response'].split(' ')[7].strip(',').replace(',', '')))\n",
    "print(f'R^2 Score for predicted buyer\\'s price is {r2_score(buyer_price_actual, buyer_price_predicted)}\\nR^2 Score for predicted seller\\'s price is {r2_score(seller_price_actual, seller_price_predicted)}')"
   ]
  },
  {
   "cell_type": "code",
   "execution_count": 7,
   "metadata": {},
   "outputs": [],
   "source": [
    "import re\n",
    "\n",
    "def extract_data_negotiationToM(string):\n",
    "    agent1_intent = re.findall(r'1 is \\[(.*?)\\]', string)[0].split(',')\n",
    "    agent2_intent = re.findall(r'2 is \\[(.*?)\\]', string)[0].split(',')\n",
    "    agent1_pattern = r'Agent 1, Desire High: (.*?), Desire Medium: (.*?), Desire Low: (.*?),  Belief High: (.*?), Belief Medium: (.*?), Belief Low: (.*?)\\.'\n",
    "    agent1_desire_belief = re.findall(agent1_pattern, string)[0]\n",
    "    agent2_pattern = r'Agent 2, Desire High: (.*?), Desire Medium: (.*?), Desire Low: (.*?),  Belief High: (.*?), Belief Medium: (.*?), Belief Low: (.*?)\\.'\n",
    "    agent2_desire_belief = re.findall(agent2_pattern, string)[0]\n",
    "    return agent1_intent, agent2_intent, agent1_desire_belief, agent2_desire_belief\n",
    "\n"
   ]
  },
  {
   "cell_type": "code",
   "execution_count": 16,
   "metadata": {},
   "outputs": [
    {
     "name": "stdout",
     "output_type": "stream",
     "text": [
      "All Score is:  0.14064697609001406\n",
      "Desire Score is:  0.35443037974683544\n",
      "Belief Score is:  0.35443037974683544\n"
     ]
    }
   ],
   "source": [
    "with open('controls/NegotiationToM-8B.jsonl', 'r') as fin:\n",
    "    NegotiationToM = json.load(fin)\n",
    "score = 0\n",
    "belief = 0\n",
    "desire = 0\n",
    "intention = 0\n",
    "for idx, item in enumerate(NegotiationToM):\n",
    "    gt_agent1_intent, gt_agent2_intent, gt_agent1_desire_belief, gt_agent2_desire_belief = extract_data_negotiationToM(item['ground_truth'])\n",
    "    pr_agent1_intent, pr_agent2_intent, pr_agent1_desire_belief, pr_agent2_desire_belief = extract_data_negotiationToM(item['response'])\n",
    "    if gt_agent1_intent==pr_agent1_intent:\n",
    "        if gt_agent2_intent==pr_agent2_intent:\n",
    "            if gt_agent1_desire_belief==pr_agent1_desire_belief:\n",
    "                if gt_agent2_desire_belief==pr_agent2_desire_belief:\n",
    "                    score+=1\n",
    "    if (gt_agent1_desire_belief[:3]==pr_agent1_desire_belief[:3]) and (gt_agent2_desire_belief[:3]==pr_agent2_desire_belief[:3]):\n",
    "        desire+=1\n",
    "        \n",
    "    if (gt_agent1_desire_belief[3:]==pr_agent1_desire_belief[3:]) and (gt_agent2_desire_belief[3:]==pr_agent2_desire_belief[3:]):\n",
    "        belief+=1\n",
    "        \n",
    "\n",
    "print(\"All Score is: \", score/len(NegotiationToM))\n",
    "print(\"Desire Score is: \", desire/len(NegotiationToM))\n",
    "print(\"Belief Score is: \", belief/len(NegotiationToM))"
   ]
  },
  {
   "cell_type": "code",
   "execution_count": 10,
   "metadata": {},
   "outputs": [],
   "source": [
    "from transformers import AutoTokenizer, AutoModel\n",
    "import torch\n",
    "from scipy.spatial.distance import cosine\n",
    "from typing import List\n",
    "\n",
    "def compute_average_similarity(pred1: List[str], pred2: List[str], actual: List[str]) -> (float, float):\n",
    "    \"\"\"\n",
    "    Computes the average cosine similarity between pairs of strings in\n",
    "    (pred1, actual) and (pred2, actual) using BERT embeddings.\n",
    "    \n",
    "    Args:\n",
    "        pred1: List of strings for the first set of predictions.\n",
    "        pred2: List of strings for the second set of predictions.\n",
    "        actual: List of strings for the actual ground truth.\n",
    "        \n",
    "    Returns:\n",
    "        A tuple (avg_similarity_pred1, avg_similarity_pred2), where each is the \n",
    "        average cosine similarity between the respective prediction and actual strings.\n",
    "    \"\"\"\n",
    "    # Load BERT model and tokenizer\n",
    "    # tokenizer = AutoTokenizer.from_pretrained(\"bert-base-uncased\")\n",
    "    model = SentenceTransformer(\"all-MiniLM-L6-v2\")\n",
    "    # model.eval()  # Set the model to evaluation mode\n",
    "\n",
    "    def get_embedding(text: str) -> torch.Tensor:\n",
    "        return model.encode([text])[0]\n",
    "        # \"\"\"Converts a string into a BERT embedding.\"\"\"\n",
    "        # with torch.no_grad():\n",
    "        #     inputs = tokenizer(text, return_tensors=\"pt\", truncation=True, padding=True, max_length=512)\n",
    "        #     outputs = model(**inputs)\n",
    "        #     # Use the [CLS] token embedding (first token) as the sentence representation\n",
    "        #     return outputs.last_hidden_state[:, 0, :].squeeze(0)\n",
    "\n",
    "    def compute_similarity(list1: List[str], list2: List[str]) -> float:\n",
    "        \"\"\"Computes average cosine similarity between two lists of strings.\"\"\"\n",
    "        similarities = []\n",
    "        for text1, text2 in zip(list1, list2):\n",
    "            emb1 = get_embedding(text1)\n",
    "            emb2 = get_embedding(text2)\n",
    "            # Compute cosine similarity (1 - cosine distance)\n",
    "            sim = model.similarity(emb1, emb2)\n",
    "            similarities.append(sim)\n",
    "        return sum(similarities) / len(similarities) if similarities else 0.0\n",
    "\n",
    "    # Compute average similarities\n",
    "    avg_similarity_pred1 = compute_similarity(pred1, actual)\n",
    "    avg_similarity_pred2 = compute_similarity(pred2, actual)\n",
    "\n",
    "    return avg_similarity_pred1, avg_similarity_pred2\n"
   ]
  },
  {
   "cell_type": "code",
   "execution_count": 11,
   "metadata": {},
   "outputs": [
    {
     "name": "stdout",
     "output_type": "stream",
     "text": [
      "Average Similarity (aligned vs actual): tensor([[0.2747]])\n",
      "Average Similarity (nonaligned vs actual): tensor([[0.2541]])\n"
     ]
    }
   ],
   "source": [
    "with open('out/Show-Empathy.jsonl', 'r') as fin:\n",
    "    showing_empathy = json.load(fin)\n",
    "aligned_response = [item['aligned_respons'] for item in showing_empathy]\n",
    "nonaligned_resopnse = [item['nonaligned_resopnse'] for item in showing_empathy]\n",
    "golden_response = [item['golden_response'] for item in showing_empathy]\n",
    "avg_sim1, avg_sim2 = compute_average_similarity(aligned_response, nonaligned_resopnse, golden_response)\n",
    "print(f\"Average Similarity (aligned vs actual): {avg_sim1}\")\n",
    "print(f\"Average Similarity (nonaligned vs actual): {avg_sim2}\")\n"
   ]
  },
  {
   "cell_type": "code",
   "execution_count": 13,
   "metadata": {},
   "outputs": [
    {
     "name": "stdout",
     "output_type": "stream",
     "text": [
      "Average Similarity (aligned vs actual): tensor([[0.2747]])\n",
      "Average Similarity (nonaligned vs actual): tensor([[0.2541]])\n"
     ]
    }
   ],
   "source": [
    "with open('/import/ravel/1/z5517269/latentqa/Promote-Coordination.json', 'r') as fin:\n",
    "    showing_empathy = json.load(fin)\n",
    "aligned_response = [item['aligned_respons'] for item in showing_empathy]\n",
    "nonaligned_resopnse = [item['nonaligned_resopnse'] for item in showing_empathy]\n",
    "golden_response = [item['golden_response'] for item in showing_empathy]\n",
    "avg_sim1, avg_sim2 = compute_average_similarity(aligned_response, nonaligned_resopnse, golden_response)\n",
    "print(f\"Average Similarity (aligned vs actual): {avg_sim1}\")\n",
    "print(f\"Average Similarity (nonaligned vs actual): {avg_sim2}\")"
   ]
  },
  {
   "cell_type": "code",
   "execution_count": 14,
   "metadata": {},
   "outputs": [
    {
     "name": "stdout",
     "output_type": "stream",
     "text": [
      "Average Similarity (aligned vs actual): tensor([[0.3225]])\n",
      "Average Similarity (nonaligned vs actual): tensor([[0.2555]])\n"
     ]
    }
   ],
   "source": [
    "with open('/import/ravel/1/z5517269/latentqa/Show-Empathy.json', 'r') as fin:\n",
    "    showing_empathy = json.load(fin)\n",
    "aligned_response = [item['aligned_respons'] for item in showing_empathy]\n",
    "nonaligned_resopnse = [item['nonaligned_resopnse'] for item in showing_empathy]\n",
    "golden_response = [item['golden_response'] for item in showing_empathy]\n",
    "avg_sim1, avg_sim2 = compute_average_similarity(aligned_response, nonaligned_resopnse, golden_response)\n",
    "print(f\"Average Similarity (aligned vs actual): {avg_sim1}\")\n",
    "print(f\"Average Similarity (nonaligned vs actual): {avg_sim2}\")"
   ]
  },
  {
   "cell_type": "code",
   "execution_count": 15,
   "metadata": {},
   "outputs": [
    {
     "name": "stdout",
     "output_type": "stream",
     "text": [
      "Average Similarity (aligned vs actual): tensor([[0.2696]])\n",
      "Average Similarity (nonaligned vs actual): tensor([[0.3388]])\n"
     ]
    }
   ],
   "source": [
    "with open('/import/ravel/1/z5517269/latentqa/Belief_High_Water.json', 'r') as fin:\n",
    "    showing_empathy = json.load(fin)\n",
    "aligned_response = [item['aligned_respons'] for item in showing_empathy]\n",
    "nonaligned_resopnse = [item['nonaligned_resopnse'] for item in showing_empathy]\n",
    "golden_response = [item['golden_response'] for item in showing_empathy]\n",
    "avg_sim1, avg_sim2 = compute_average_similarity(aligned_response, nonaligned_resopnse, golden_response)\n",
    "print(f\"Average Similarity (aligned vs actual): {avg_sim1}\")\n",
    "print(f\"Average Similarity (nonaligned vs actual): {avg_sim2}\")"
   ]
  },
  {
   "cell_type": "code",
   "execution_count": 50,
   "metadata": {},
   "outputs": [
    {
     "name": "stdout",
     "output_type": "stream",
     "text": [
      "1335\n",
      "711\n",
      "334\n",
      "487\n",
      "261\n",
      "122\n",
      "711\n"
     ]
    }
   ],
   "source": [
    "import json\n",
    "with open('data/NegotiationToM/train.json', 'r') as fout: \n",
    "    print(len(json.load(fout)))\n",
    "with open('data/NegotiationToM/test.json', 'r') as fout: \n",
    "    print(len(json.load(fout)))\n",
    "with open('data/NegotiationToM/valid.json', 'r') as fout: \n",
    "    print(len(json.load(fout)))\n",
    "with open('data/FANTOM/train.json', 'r') as fout: \n",
    "    print(len(json.load(fout)))\n",
    "with open('data/FANTOM/test.json', 'r') as fout: \n",
    "    print(len(json.load(fout)))\n",
    "with open('data/FANTOM/valid.json', 'r') as fout: \n",
    "    print(len(json.load(fout)))\n",
    "with open('/import/ravel/1/z5517269/latentqa/controls/NegotiationToM-8B.jsonl', 'r') as fout: \n",
    "    print(len(json.load(fout)))\n"
   ]
  },
  {
   "cell_type": "code",
   "execution_count": 29,
   "metadata": {},
   "outputs": [],
   "source": [
    "import json\n",
    "with open('controls/JobInterview-8B.jsonl', 'r') as fin: \n",
    "    JobInterview = json.load(fin)\n",
    "actual_order, predicted_order = [], []\n",
    "for item in JobInterview:\n",
    "    actual_order.append([item[0] for item in sorted(enumerate(extract_factors(item['ground_truth'])), key=lambda item:item[1])][-1])\n",
    "    try:\n",
    "        predicted_order.append([item[0] for item in sorted(enumerate(extract_factors(item['response'])), key=lambda item:item[1])][-1])\n",
    "    except:\n",
    "        predicted_order.append(0)\n",
    "\n"
   ]
  },
  {
   "cell_type": "code",
   "execution_count": 33,
   "metadata": {},
   "outputs": [
    {
     "name": "stdout",
     "output_type": "stream",
     "text": [
      "0.2132701421800948\n"
     ]
    }
   ],
   "source": [
    "counter=0\n",
    "for ao, po in zip(actual_order, predicted_order):\n",
    "    if ao==po:\n",
    "        counter+=1\n",
    "print(counter/len(actual_order))"
   ]
  },
  {
   "cell_type": "code",
   "execution_count": 16,
   "metadata": {},
   "outputs": [
    {
     "data": {
      "text/plain": [
       "[0.25, 0.14, 0.28, 0.12, 0.21]"
      ]
     },
     "execution_count": 16,
     "metadata": {},
     "output_type": "execute_result"
    }
   ],
   "source": [
    "import re\n",
    "\n",
    "def extract_factors(string):\n",
    "    string = string.replace(\"'\", \"\")\n",
    "    factors = re.findall(r'0.[0-9]{2}', string)\n",
    "    return [eval(item) for item in factors]\n",
    "\n",
    "extract_factors(\"Factors and their weights are as follows: ('Salary', 0.25) ('Position', 0.14) ('Weekly holiday', 0.28) ('Workplace', 0.12) ('Company', 0.21)\")\n"
   ]
  },
  {
   "cell_type": "code",
   "execution_count": null,
   "metadata": {},
   "outputs": [],
   "source": []
  }
 ],
 "metadata": {
  "kernelspec": {
   "display_name": "latentqa",
   "language": "python",
   "name": "python3"
  },
  "language_info": {
   "codemirror_mode": {
    "name": "ipython",
    "version": 3
   },
   "file_extension": ".py",
   "mimetype": "text/x-python",
   "name": "python",
   "nbconvert_exporter": "python",
   "pygments_lexer": "ipython3",
   "version": "undefined.undefined.undefined"
  }
 },
 "nbformat": 4,
 "nbformat_minor": 2
}
