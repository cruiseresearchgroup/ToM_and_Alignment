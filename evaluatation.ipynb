{
 "cells": [
  {
   "cell_type": "code",
   "execution_count": 2,
   "metadata": {},
   "outputs": [],
   "source": [
    "import json\n",
    "from sklearn.metrics import r2_score\n",
    "from sklearn.metrics import f1_score\n",
    "from sklearn.preprocessing import MultiLabelBinarizer\n"
   ]
  },
  {
   "cell_type": "code",
   "execution_count": 10,
   "metadata": {},
   "outputs": [
    {
     "name": "stdout",
     "output_type": "stream",
     "text": [
      "Accuracy for predicting priorities:\n",
      "Agent1: 0.48 percents\n",
      "Agent2: 0.54 percents\n",
      "Both Agents: 0.25 percents\n"
     ]
    }
   ],
   "source": [
    "with open('controls/CaSiNo.jsonl', 'r') as fin:\n",
    "    CaSiNo = json.load(fin)\n",
    "test_set_size = len(CaSiNo)\n",
    "agent1, agent2, both = 0, 0, 0\n",
    "for item in CaSiNo:\n",
    "    if item['response'].split('.')[0] == item['ground_truth'].split('.')[0]:\n",
    "        agent1+=1\n",
    "    if item['response'].split('.')[1] == item['ground_truth'].split('.')[1]:\n",
    "        agent2+=1\n",
    "    if item['response']==item['ground_truth']:\n",
    "        both+=1\n",
    "print(f'Accuracy for predicting priorities:\\nAgent1: {agent1/test_set_size} percents\\nAgent2: {agent2/test_set_size} percents\\nBoth Agents: {both/test_set_size} percents')"
   ]
  },
  {
   "cell_type": "code",
   "execution_count": 16,
   "metadata": {},
   "outputs": [
    {
     "name": "stdout",
     "output_type": "stream",
     "text": [
      "R^2 Score for predicted buyer's price is 0.9162770767996156\n",
      "R^2 Score for predicted seller's price is 0.9470176479894197\n"
     ]
    }
   ],
   "source": [
    "with open('controls/CRAIGSLISTBARGAIN.jsonl', 'r') as fin:\n",
    "    CRAIGSLISTBARGAIN = json.load(fin)\n",
    "buyer_price_actual, buyer_price_predicted, seller_price_actual, seller_price_predicted = [], [], [], []\n",
    "for item in CRAIGSLISTBARGAIN:\n",
    "    buyer_price_actual.append(int(item['ground_truth'].split(' ')[-2].replace(',', '')))\n",
    "    buyer_price_predicted.append(int(item['response'].split(' ')[-2].replace(',', '')))\n",
    "    seller_price_actual.append(int(item['ground_truth'].split(' ')[7].strip(',').replace(',', '')))\n",
    "    seller_price_predicted.append(int(item['response'].split(' ')[7].strip(',').replace(',', '')))\n",
    "print(f'R^2 Score for predicted buyer\\'s price is {r2_score(buyer_price_actual, buyer_price_predicted)}\\nR^2 Score for predicted seller\\'s price is {r2_score(seller_price_actual, seller_price_predicted)}')"
   ]
  },
  {
   "cell_type": "code",
   "execution_count": 3,
   "metadata": {},
   "outputs": [
    {
     "name": "stdout",
     "output_type": "stream",
     "text": [
      "F1 Score (Micro): 0.6426656453466105\n",
      "F1 Score (Macro): 0.4827246681902486\n",
      "0.3558368495077356\n"
     ]
    }
   ],
   "source": [
    "with open('controls/NegotiationToM.jsonl', 'r') as fin:\n",
    "    NegotiationToM = json.load(fin)\n",
    "desire_actual, desire_predicted, belief_actual, belief_predicted, a1_intent_actual, \\\n",
    "intent_actual, intent_predicted, \\\n",
    "a1_intent_predicted, a2_intent_actual, a2_intent_predicted = [], [], [], [], [], [], [], [], [], []\n",
    "\n",
    "for item in NegotiationToM:\n",
    "\n",
    "    temp = item['ground_truth'].split('Desire ')\n",
    "    temp = [label.split(':')[1].split(',')[0].strip() for label in temp[1:]]\n",
    "    desire_actual.append(temp)\n",
    "    temp = item['response'].split('Desire ')\n",
    "    try:\n",
    "        temp = [label.split(':')[1].split(',')[0].strip() for label in temp[1:]]\n",
    "    except:\n",
    "        temp = ['_' for i in range(6)]\n",
    "    desire_predicted.append(temp)\n",
    "    \n",
    "    temp = item['ground_truth'].split('Belief ')\n",
    "    temp = [label.split(':')[1].replace('.', ',').split(',')[0].strip() for label in temp[1:]]\n",
    "    belief_actual.append(temp)\n",
    "    temp = item['response'].split('Belief ')\n",
    "    try:\n",
    "        temp = [label.split(':')[1].replace('.', ',').split(',')[0].strip() for label in temp[1:]]\n",
    "    except:\n",
    "        temp = ['_' for i in range(6)]\n",
    "    if len(temp)!=6:\n",
    "        temp = ['_' for i in range(6)]\n",
    "    belief_predicted.append(temp)\n",
    "    \n",
    "    a1_intent_actual.append(item['ground_truth'].split('[')[1].split(']')[0].split(','))\n",
    "    try:\n",
    "        a1_intent_predicted.append(item['response'].split('[')[1].split(']')[0].split(','))\n",
    "    except:\n",
    "        a1_intent_predicted.append([])\n",
    "    if len(temp)!=6:\n",
    "        temp = ['_' for i in range(6)]\n",
    "    \n",
    "    a2_intent_actual.append(item['ground_truth'].split('[')[2].split(']')[0].split(','))\n",
    "    try:\n",
    "        a2_intent_predicted.append(item['response'].split('[')[2].split(']')[0].split(','))\n",
    "    except:\n",
    "        a2_intent_predicted.append([])\n",
    "\n",
    "intent_actual = [a1+a2 for a1, a2 in zip(a1_intent_actual, a2_intent_actual)]\n",
    "intent_predicted = [a1+a2 for a1, a2 in zip(a1_intent_predicted, a2_intent_predicted)]\n",
    "\n",
    "# print(a1_intent_actual)\n",
    "# print(a1_intent_predicted)\n",
    "# print(a2_intent_actual)\n",
    "# print(a2_intent_predicted)\n",
    "# print(desire_actual)\n",
    "# print(desire_predicted)\n",
    "# print(belief_actual)\n",
    "# print(belief_predicted)\n",
    "mlb = MultiLabelBinarizer()\n",
    "y_true_binary = mlb.fit_transform(intent_actual)\n",
    "y_pred_binary = mlb.transform(intent_predicted)\n",
    "\n",
    "# Calculate F1 score\n",
    "f1_micro = f1_score(y_true_binary, y_pred_binary, average='micro')\n",
    "f1_macro = f1_score(y_true_binary, y_pred_binary, average='macro')\n",
    "\n",
    "print(f\"F1 Score (Micro): {f1_micro}\")\n",
    "print(f\"F1 Score (Macro): {f1_macro}\")\n",
    "\n",
    "test_set_size = len(NegotiationToM)\n",
    "desire_accuracy = 0\n",
    "for a, p in zip(desire_predicted, desire_actual):\n",
    "    if a==p:\n",
    "        desire_accuracy+=1\n",
    "print(desire_accuracy/test_set_size)"
   ]
  },
  {
   "cell_type": "code",
   "execution_count": 34,
   "metadata": {},
   "outputs": [
    {
     "name": "stdout",
     "output_type": "stream",
     "text": [
      "The intent of the Agent 1 is [Build-Rapport,Describe-Need] and the intent of the Agent 2 is [Build-Rapport] Regarding the Agent 1, Desire High: Food, Desire Medium: Not Given, Desire Low: Not Given,  Belief High: Not Given, Belief Medium: Not Given, Belief Low: Not Given. Regarding the Agent 2, Desire High: Not Given, Desire Medium: Not Given, Desire Low: Not Given,  Belief High: Food, Belief Medium: Not Given, Belief Low: Not Given.\n",
      "The intent of the Agent 1 is [Build-Rapport,Describe-Need] and the intent of the Agent 2 is [Describe-Need] Regarding the Agent 1, Desire High: Not Given, Desire Medium: Not Given, Desire Low: Firewood,  Belief High: Food, Belief Medium: Not Given, Belief Low: Not Given. Regarding the Agent 2, Desire High: Food, Desire Medium: Not Given, Desire Low: Not Given,\n"
     ]
    }
   ],
   "source": [
    "from sklearn.metrics import f1_score\n",
    "f1_score(['Not Given', 'Not Given', 'Not Given', 'Not Given', 'Not Given', 'Not Given'], )"
   ]
  },
  {
   "cell_type": "code",
   "execution_count": null,
   "metadata": {},
   "outputs": [],
   "source": []
  },
  {
   "cell_type": "code",
   "execution_count": null,
   "metadata": {},
   "outputs": [],
   "source": []
  },
  {
   "cell_type": "code",
   "execution_count": null,
   "metadata": {},
   "outputs": [],
   "source": []
  },
  {
   "cell_type": "code",
   "execution_count": null,
   "metadata": {},
   "outputs": [],
   "source": []
  },
  {
   "cell_type": "code",
   "execution_count": 13,
   "metadata": {},
   "outputs": [
    {
     "name": "stdout",
     "output_type": "stream",
     "text": [
      "7-4 Describe-Need,Show-Empathy 5\n",
      "7-4 Describe-Need,Show-Empathy 7\n",
      "10-4 Describe-Need,Discover-Preference,No-Need,Promote-Coordination,Show-Empathy 5\n",
      "11-4 Describe-Need,Show-Empathy 6\n",
      "19-5 Promote-Coordination,Show-Empathy 7\n",
      "28-6 Show-Empathy 7\n",
      "40-5 Show-Empathy,Undermine-Requirements 5\n",
      "40-5 Show-Empathy 9\n",
      "40-5 Build-Rapport,Show-Empathy 11\n",
      "56-4 Show-Empathy 4\n",
      "69-5 Show-Empathy 6\n",
      "83-10 Promote-Coordination,Show-Empathy,Undermine-Requirements 10\n",
      "84-4 Describe-Need,Show-Empathy 1\n",
      "85-4 Show-Empathy 6\n",
      "85-4 Show-Empathy 8\n",
      "94-5 No-Need,Show-Empathy 9\n",
      "101-5 Describe-Need,Show-Empathy 4\n",
      "101-5 No-Need,Show-Empathy 10\n",
      "103-5 Show-Empathy 10\n",
      "108-5 Build-Rapport,Show-Empathy 10\n",
      "119-4 Promote-Coordination,Show-Empathy,Undermine-Requirements 5\n",
      "126-5 Build-Rapport,Describe-Need,Show-Empathy 9\n",
      "131-4 Show-Empathy 3\n",
      "131-4 No-Need,Show-Empathy 5\n",
      "142-8 Describe-Need,Show-Empathy 9\n",
      "142-8 Show-Empathy,Undermine-Requirements 13\n",
      "142-8 Show-Empathy,Undermine-Requirements 15\n",
      "146-6 No-Need,Show-Empathy 5\n",
      "159-6 Show-Empathy 3\n",
      "159-6 No-Need,Show-Empathy 5\n",
      "159-6 Show-Empathy 9\n",
      "162-4 Describe-Need,Show-Empathy 5\n",
      "181-7 Show-Empathy 10\n",
      "182-5 No-Need,Show-Empathy 4\n",
      "468-5 Show-Empathy 4\n",
      "469-5 Show-Empathy 6\n",
      "485-4 Show-Empathy 9\n",
      "490-5 Show-Empathy 10\n",
      "529-9 Callout-Fairness,Describe-Need,Promote-Coordination,Show-Empathy 5\n",
      "529-9 Build-Rapport,Describe-Need,Show-Empathy 13\n",
      "529-9 Show-Empathy 19\n",
      "531-4 Build-Rapport,Show-Empathy 4\n",
      "531-4 Describe-Need,Promote-Coordination,Show-Empathy 6\n",
      "554-6 Describe-Need,Show-Empathy 2\n",
      "554-6 Show-Empathy,Undermine-Requirements 4\n",
      "567-4 No-Need,Promote-Coordination,Show-Empathy 3\n",
      "594-4 Build-Rapport,Show-Empathy 6\n",
      "47\n"
     ]
    }
   ],
   "source": [
    "import json\n",
    "count = 0\n",
    "with open('data/NegotiationToM/test.json', 'r') as fin: \n",
    "    data = json.load(fin)\n",
    "for item in data:\n",
    "    if len(item['intents'])==len(item['dialogue']):\n",
    "        for idx, intent in enumerate(item['intents']):\n",
    "            if (intent.find('Show-Empathy')!= -1) and (item['dialogue'][idx].startswith('agent_1')): \n",
    "                print(item['dialogue_id'], intent, idx)\n",
    "                count+=1\n",
    "\n",
    "print(count)\n",
    "        "
   ]
  },
  {
   "cell_type": "code",
   "execution_count": null,
   "metadata": {},
   "outputs": [],
   "source": []
  }
 ],
 "metadata": {
  "kernelspec": {
   "display_name": "latentqa",
   "language": "python",
   "name": "python3"
  },
  "language_info": {
   "codemirror_mode": {
    "name": "ipython",
    "version": 3
   },
   "file_extension": ".py",
   "mimetype": "text/x-python",
   "name": "python",
   "nbconvert_exporter": "python",
   "pygments_lexer": "ipython3",
   "version": "3.11.11"
  }
 },
 "nbformat": 4,
 "nbformat_minor": 2
}
